{
 "cells": [
  {
   "cell_type": "code",
   "execution_count": 1,
   "id": "09da1ebb-f3e0-45af-80e9-32230e69d8fa",
   "metadata": {
    "id": "09da1ebb-f3e0-45af-80e9-32230e69d8fa"
   },
   "outputs": [],
   "source": [
    "#Import required libraries\n",
    "import numpy as np\n",
    "import pandas as pd\n",
    "import matplotlib.pyplot as plt\n",
    "import matplotlib.style as style\n",
    "import seaborn as sns\n",
    "%matplotlib inline"
   ]
  },
  {
   "cell_type": "code",
   "execution_count": 2,
   "id": "31dd8d61-7d47-452d-b2ea-dab9eefed71a",
   "metadata": {
    "id": "31dd8d61-7d47-452d-b2ea-dab9eefed71a"
   },
   "outputs": [],
   "source": [
    "from sklearn.model_selection import train_test_split\n",
    "from sklearn.ensemble import RandomForestRegressor\n",
    "from sklearn.metrics import mean_squared_error, r2_score\n",
    "from sklearn.preprocessing import StandardScaler\n",
    "import joblib\n",
    "import os"
   ]
  },
  {
   "cell_type": "code",
   "execution_count": 3,
   "id": "7dd74542-9efe-4252-a889-36b2f9bf4009",
   "metadata": {
    "id": "7dd74542-9efe-4252-a889-36b2f9bf4009"
   },
   "outputs": [],
   "source": [
    "import warnings\n",
    "warnings.filterwarnings('ignore')"
   ]
  },
  {
   "cell_type": "code",
   "execution_count": 4,
   "id": "f262fe52-dc5f-4f3e-af52-fc7ba823535b",
   "metadata": {
    "colab": {
     "base_uri": "https://localhost:8080/",
     "height": 310
    },
    "id": "f262fe52-dc5f-4f3e-af52-fc7ba823535b",
    "outputId": "01e72842-165b-4674-8213-43de85f6e972"
   },
   "outputs": [
    {
     "data": {
      "text/html": [
       "<div>\n",
       "<style scoped>\n",
       "    .dataframe tbody tr th:only-of-type {\n",
       "        vertical-align: middle;\n",
       "    }\n",
       "\n",
       "    .dataframe tbody tr th {\n",
       "        vertical-align: top;\n",
       "    }\n",
       "\n",
       "    .dataframe thead th {\n",
       "        text-align: right;\n",
       "    }\n",
       "</style>\n",
       "<table border=\"1\" class=\"dataframe\">\n",
       "  <thead>\n",
       "    <tr style=\"text-align: right;\">\n",
       "      <th></th>\n",
       "      <th>Year</th>\n",
       "      <th>Month</th>\n",
       "      <th>Date</th>\n",
       "      <th>Hour</th>\n",
       "      <th>Place</th>\n",
       "      <th>Temperature</th>\n",
       "      <th>Temperature Category</th>\n",
       "      <th>Day Status</th>\n",
       "      <th>Ride Demand</th>\n",
       "    </tr>\n",
       "  </thead>\n",
       "  <tbody>\n",
       "    <tr>\n",
       "      <th>0</th>\n",
       "      <td>2023</td>\n",
       "      <td>3</td>\n",
       "      <td>21</td>\n",
       "      <td>19</td>\n",
       "      <td>Yeshwantpur</td>\n",
       "      <td>26.030448</td>\n",
       "      <td>Moderate Temp (Clear)</td>\n",
       "      <td>Working Day</td>\n",
       "      <td>79</td>\n",
       "    </tr>\n",
       "    <tr>\n",
       "      <th>1</th>\n",
       "      <td>2024</td>\n",
       "      <td>3</td>\n",
       "      <td>1</td>\n",
       "      <td>6</td>\n",
       "      <td>Jeevanbhima Nagar</td>\n",
       "      <td>11.129214</td>\n",
       "      <td>Low Temp (Rainy)</td>\n",
       "      <td>Working Day</td>\n",
       "      <td>21</td>\n",
       "    </tr>\n",
       "    <tr>\n",
       "      <th>2</th>\n",
       "      <td>2024</td>\n",
       "      <td>3</td>\n",
       "      <td>1</td>\n",
       "      <td>5</td>\n",
       "      <td>Hebbal</td>\n",
       "      <td>23.627053</td>\n",
       "      <td>Moderate Temp (Clear)</td>\n",
       "      <td>Working Day</td>\n",
       "      <td>20</td>\n",
       "    </tr>\n",
       "    <tr>\n",
       "      <th>3</th>\n",
       "      <td>2024</td>\n",
       "      <td>10</td>\n",
       "      <td>14</td>\n",
       "      <td>22</td>\n",
       "      <td>Shivajinagar</td>\n",
       "      <td>21.577774</td>\n",
       "      <td>Moderate Temp (Clear)</td>\n",
       "      <td>Working Day</td>\n",
       "      <td>75</td>\n",
       "    </tr>\n",
       "    <tr>\n",
       "      <th>4</th>\n",
       "      <td>2024</td>\n",
       "      <td>1</td>\n",
       "      <td>14</td>\n",
       "      <td>21</td>\n",
       "      <td>JP Nagar</td>\n",
       "      <td>21.868797</td>\n",
       "      <td>Moderate Temp (Clear)</td>\n",
       "      <td>Holiday</td>\n",
       "      <td>137</td>\n",
       "    </tr>\n",
       "  </tbody>\n",
       "</table>\n",
       "</div>"
      ],
      "text/plain": [
       "   Year  Month  Date  Hour              Place  Temperature  \\\n",
       "0  2023      3    21    19        Yeshwantpur    26.030448   \n",
       "1  2024      3     1     6  Jeevanbhima Nagar    11.129214   \n",
       "2  2024      3     1     5             Hebbal    23.627053   \n",
       "3  2024     10    14    22       Shivajinagar    21.577774   \n",
       "4  2024      1    14    21           JP Nagar    21.868797   \n",
       "\n",
       "    Temperature Category   Day Status  Ride Demand  \n",
       "0  Moderate Temp (Clear)  Working Day           79  \n",
       "1       Low Temp (Rainy)  Working Day           21  \n",
       "2  Moderate Temp (Clear)  Working Day           20  \n",
       "3  Moderate Temp (Clear)  Working Day           75  \n",
       "4  Moderate Temp (Clear)      Holiday          137  "
      ]
     },
     "execution_count": 4,
     "metadata": {},
     "output_type": "execute_result"
    }
   ],
   "source": [
    "# Load the dataset\n",
    "file_path = r\"C:\\Users\\Likith Reddy\\OneDrive\\Desktop\\updated_ola_bike_ride_forecasting.csv\"\n",
    "data = pd.read_csv(file_path)\n",
    "# Display the first few rows\n",
    "data.head()\n"
   ]
  },
  {
   "cell_type": "code",
   "execution_count": 5,
   "id": "3f70d3f0-a0aa-4c7d-a6b9-06e8e93b78a5",
   "metadata": {
    "colab": {
     "base_uri": "https://localhost:8080/",
     "height": 310
    },
    "id": "3f70d3f0-a0aa-4c7d-a6b9-06e8e93b78a5",
    "outputId": "61faa1f9-dc09-4c4f-f30e-6c535c3cea23"
   },
   "outputs": [
    {
     "data": {
      "text/html": [
       "<div>\n",
       "<style scoped>\n",
       "    .dataframe tbody tr th:only-of-type {\n",
       "        vertical-align: middle;\n",
       "    }\n",
       "\n",
       "    .dataframe tbody tr th {\n",
       "        vertical-align: top;\n",
       "    }\n",
       "\n",
       "    .dataframe thead th {\n",
       "        text-align: right;\n",
       "    }\n",
       "</style>\n",
       "<table border=\"1\" class=\"dataframe\">\n",
       "  <thead>\n",
       "    <tr style=\"text-align: right;\">\n",
       "      <th></th>\n",
       "      <th>Year</th>\n",
       "      <th>Month</th>\n",
       "      <th>Date</th>\n",
       "      <th>Hour</th>\n",
       "      <th>Place</th>\n",
       "      <th>Temperature</th>\n",
       "      <th>Temperature Category</th>\n",
       "      <th>Day Status</th>\n",
       "      <th>Ride Demand</th>\n",
       "    </tr>\n",
       "  </thead>\n",
       "  <tbody>\n",
       "    <tr>\n",
       "      <th>49995</th>\n",
       "      <td>2023</td>\n",
       "      <td>8</td>\n",
       "      <td>27</td>\n",
       "      <td>13</td>\n",
       "      <td>Hebbal</td>\n",
       "      <td>28.173692</td>\n",
       "      <td>High Temp (Sunny)</td>\n",
       "      <td>Holiday</td>\n",
       "      <td>82</td>\n",
       "    </tr>\n",
       "    <tr>\n",
       "      <th>49996</th>\n",
       "      <td>2023</td>\n",
       "      <td>8</td>\n",
       "      <td>14</td>\n",
       "      <td>4</td>\n",
       "      <td>Rajarajeshwari Nagar</td>\n",
       "      <td>20.494605</td>\n",
       "      <td>Moderate Temp (Clear)</td>\n",
       "      <td>Working Day</td>\n",
       "      <td>24</td>\n",
       "    </tr>\n",
       "    <tr>\n",
       "      <th>49997</th>\n",
       "      <td>2022</td>\n",
       "      <td>6</td>\n",
       "      <td>23</td>\n",
       "      <td>19</td>\n",
       "      <td>Bannerghatta</td>\n",
       "      <td>18.726419</td>\n",
       "      <td>Moderate Temp (Clear)</td>\n",
       "      <td>Working Day</td>\n",
       "      <td>75</td>\n",
       "    </tr>\n",
       "    <tr>\n",
       "      <th>49998</th>\n",
       "      <td>2022</td>\n",
       "      <td>12</td>\n",
       "      <td>6</td>\n",
       "      <td>4</td>\n",
       "      <td>Seshadripuram</td>\n",
       "      <td>24.965305</td>\n",
       "      <td>Moderate Temp (Clear)</td>\n",
       "      <td>Working Day</td>\n",
       "      <td>20</td>\n",
       "    </tr>\n",
       "    <tr>\n",
       "      <th>49999</th>\n",
       "      <td>2024</td>\n",
       "      <td>3</td>\n",
       "      <td>27</td>\n",
       "      <td>7</td>\n",
       "      <td>Shivajinagar</td>\n",
       "      <td>24.093308</td>\n",
       "      <td>Moderate Temp (Clear)</td>\n",
       "      <td>Working Day</td>\n",
       "      <td>102</td>\n",
       "    </tr>\n",
       "  </tbody>\n",
       "</table>\n",
       "</div>"
      ],
      "text/plain": [
       "       Year  Month  Date  Hour                 Place  Temperature  \\\n",
       "49995  2023      8    27    13                Hebbal    28.173692   \n",
       "49996  2023      8    14     4  Rajarajeshwari Nagar    20.494605   \n",
       "49997  2022      6    23    19          Bannerghatta    18.726419   \n",
       "49998  2022     12     6     4         Seshadripuram    24.965305   \n",
       "49999  2024      3    27     7          Shivajinagar    24.093308   \n",
       "\n",
       "        Temperature Category   Day Status  Ride Demand  \n",
       "49995      High Temp (Sunny)      Holiday           82  \n",
       "49996  Moderate Temp (Clear)  Working Day           24  \n",
       "49997  Moderate Temp (Clear)  Working Day           75  \n",
       "49998  Moderate Temp (Clear)  Working Day           20  \n",
       "49999  Moderate Temp (Clear)  Working Day          102  "
      ]
     },
     "execution_count": 5,
     "metadata": {},
     "output_type": "execute_result"
    }
   ],
   "source": [
    "# Display last few rows\n",
    "data.tail()"
   ]
  },
  {
   "cell_type": "code",
   "execution_count": 6,
   "id": "5332fd8a-f5f2-4b95-98fb-db94b460b1dc",
   "metadata": {
    "colab": {
     "base_uri": "https://localhost:8080/"
    },
    "id": "5332fd8a-f5f2-4b95-98fb-db94b460b1dc",
    "outputId": "4d0b7304-2135-47b3-eb42-760870da8717"
   },
   "outputs": [
    {
     "data": {
      "text/plain": [
       "Index(['Year', 'Month', 'Date', 'Hour', 'Place', 'Temperature',\n",
       "       'Temperature Category', 'Day Status', 'Ride Demand'],\n",
       "      dtype='object')"
      ]
     },
     "execution_count": 6,
     "metadata": {},
     "output_type": "execute_result"
    }
   ],
   "source": [
    "data.columns"
   ]
  },
  {
   "cell_type": "code",
   "execution_count": 7,
   "id": "1f8154c1-14c8-49b6-8714-569e5e658dea",
   "metadata": {
    "colab": {
     "base_uri": "https://localhost:8080/"
    },
    "id": "1f8154c1-14c8-49b6-8714-569e5e658dea",
    "outputId": "a8b1f13d-8a31-47cd-8a69-bb61feaa9c6e"
   },
   "outputs": [
    {
     "data": {
      "text/plain": [
       "(50000, 9)"
      ]
     },
     "execution_count": 7,
     "metadata": {},
     "output_type": "execute_result"
    }
   ],
   "source": [
    "data.shape"
   ]
  },
  {
   "cell_type": "code",
   "execution_count": 8,
   "id": "8f0fa4d5-180a-4a93-bd5d-81b9eef1e7ee",
   "metadata": {
    "colab": {
     "base_uri": "https://localhost:8080/",
     "height": 366
    },
    "id": "8f0fa4d5-180a-4a93-bd5d-81b9eef1e7ee",
    "outputId": "7224351e-9ebb-47a1-8ed9-33ae8cd67282"
   },
   "outputs": [
    {
     "data": {
      "text/plain": [
       "Year                      int64\n",
       "Month                     int64\n",
       "Date                      int64\n",
       "Hour                      int64\n",
       "Place                    object\n",
       "Temperature             float64\n",
       "Temperature Category     object\n",
       "Day Status               object\n",
       "Ride Demand               int64\n",
       "dtype: object"
      ]
     },
     "execution_count": 8,
     "metadata": {},
     "output_type": "execute_result"
    }
   ],
   "source": [
    "data.dtypes"
   ]
  },
  {
   "cell_type": "code",
   "execution_count": 9,
   "id": "dfd78d6e-d146-41fa-9ca7-dd702da984da",
   "metadata": {
    "colab": {
     "base_uri": "https://localhost:8080/",
     "height": 300
    },
    "id": "dfd78d6e-d146-41fa-9ca7-dd702da984da",
    "outputId": "8e688337-0047-4441-ca7b-c46bb51a94cc"
   },
   "outputs": [
    {
     "data": {
      "text/html": [
       "<div>\n",
       "<style scoped>\n",
       "    .dataframe tbody tr th:only-of-type {\n",
       "        vertical-align: middle;\n",
       "    }\n",
       "\n",
       "    .dataframe tbody tr th {\n",
       "        vertical-align: top;\n",
       "    }\n",
       "\n",
       "    .dataframe thead th {\n",
       "        text-align: right;\n",
       "    }\n",
       "</style>\n",
       "<table border=\"1\" class=\"dataframe\">\n",
       "  <thead>\n",
       "    <tr style=\"text-align: right;\">\n",
       "      <th></th>\n",
       "      <th>Year</th>\n",
       "      <th>Month</th>\n",
       "      <th>Date</th>\n",
       "      <th>Hour</th>\n",
       "      <th>Temperature</th>\n",
       "      <th>Ride Demand</th>\n",
       "    </tr>\n",
       "  </thead>\n",
       "  <tbody>\n",
       "    <tr>\n",
       "      <th>count</th>\n",
       "      <td>50000.000000</td>\n",
       "      <td>50000.000000</td>\n",
       "      <td>50000.000000</td>\n",
       "      <td>50000.000000</td>\n",
       "      <td>50000.000000</td>\n",
       "      <td>50000.00000</td>\n",
       "    </tr>\n",
       "    <tr>\n",
       "      <th>mean</th>\n",
       "      <td>2023.299160</td>\n",
       "      <td>6.513520</td>\n",
       "      <td>14.484160</td>\n",
       "      <td>11.523100</td>\n",
       "      <td>23.036644</td>\n",
       "      <td>70.51430</td>\n",
       "    </tr>\n",
       "    <tr>\n",
       "      <th>std</th>\n",
       "      <td>0.780663</td>\n",
       "      <td>3.456486</td>\n",
       "      <td>8.043586</td>\n",
       "      <td>6.920048</td>\n",
       "      <td>6.009793</td>\n",
       "      <td>37.06961</td>\n",
       "    </tr>\n",
       "    <tr>\n",
       "      <th>min</th>\n",
       "      <td>2022.000000</td>\n",
       "      <td>1.000000</td>\n",
       "      <td>1.000000</td>\n",
       "      <td>0.000000</td>\n",
       "      <td>-0.813318</td>\n",
       "      <td>20.00000</td>\n",
       "    </tr>\n",
       "    <tr>\n",
       "      <th>25%</th>\n",
       "      <td>2023.000000</td>\n",
       "      <td>4.000000</td>\n",
       "      <td>8.000000</td>\n",
       "      <td>6.000000</td>\n",
       "      <td>19.005349</td>\n",
       "      <td>25.00000</td>\n",
       "    </tr>\n",
       "    <tr>\n",
       "      <th>50%</th>\n",
       "      <td>2023.000000</td>\n",
       "      <td>7.000000</td>\n",
       "      <td>14.000000</td>\n",
       "      <td>12.000000</td>\n",
       "      <td>23.048215</td>\n",
       "      <td>76.00000</td>\n",
       "    </tr>\n",
       "    <tr>\n",
       "      <th>75%</th>\n",
       "      <td>2024.000000</td>\n",
       "      <td>10.000000</td>\n",
       "      <td>21.000000</td>\n",
       "      <td>18.000000</td>\n",
       "      <td>27.094731</td>\n",
       "      <td>100.00000</td>\n",
       "    </tr>\n",
       "    <tr>\n",
       "      <th>max</th>\n",
       "      <td>2024.000000</td>\n",
       "      <td>12.000000</td>\n",
       "      <td>28.000000</td>\n",
       "      <td>23.000000</td>\n",
       "      <td>48.540840</td>\n",
       "      <td>171.00000</td>\n",
       "    </tr>\n",
       "  </tbody>\n",
       "</table>\n",
       "</div>"
      ],
      "text/plain": [
       "               Year         Month          Date          Hour   Temperature  \\\n",
       "count  50000.000000  50000.000000  50000.000000  50000.000000  50000.000000   \n",
       "mean    2023.299160      6.513520     14.484160     11.523100     23.036644   \n",
       "std        0.780663      3.456486      8.043586      6.920048      6.009793   \n",
       "min     2022.000000      1.000000      1.000000      0.000000     -0.813318   \n",
       "25%     2023.000000      4.000000      8.000000      6.000000     19.005349   \n",
       "50%     2023.000000      7.000000     14.000000     12.000000     23.048215   \n",
       "75%     2024.000000     10.000000     21.000000     18.000000     27.094731   \n",
       "max     2024.000000     12.000000     28.000000     23.000000     48.540840   \n",
       "\n",
       "       Ride Demand  \n",
       "count  50000.00000  \n",
       "mean      70.51430  \n",
       "std       37.06961  \n",
       "min       20.00000  \n",
       "25%       25.00000  \n",
       "50%       76.00000  \n",
       "75%      100.00000  \n",
       "max      171.00000  "
      ]
     },
     "execution_count": 9,
     "metadata": {},
     "output_type": "execute_result"
    }
   ],
   "source": [
    "data.describe()"
   ]
  },
  {
   "cell_type": "code",
   "execution_count": 10,
   "id": "84e9e41a-65a6-4a09-b050-b7d6478d6340",
   "metadata": {
    "colab": {
     "base_uri": "https://localhost:8080/"
    },
    "id": "84e9e41a-65a6-4a09-b050-b7d6478d6340",
    "outputId": "8c58e94f-caa7-4d1d-bfb5-3bec3ff7f6b8"
   },
   "outputs": [
    {
     "name": "stdout",
     "output_type": "stream",
     "text": [
      "<class 'pandas.core.frame.DataFrame'>\n",
      "RangeIndex: 50000 entries, 0 to 49999\n",
      "Data columns (total 9 columns):\n",
      " #   Column                Non-Null Count  Dtype  \n",
      "---  ------                --------------  -----  \n",
      " 0   Year                  50000 non-null  int64  \n",
      " 1   Month                 50000 non-null  int64  \n",
      " 2   Date                  50000 non-null  int64  \n",
      " 3   Hour                  50000 non-null  int64  \n",
      " 4   Place                 50000 non-null  object \n",
      " 5   Temperature           50000 non-null  float64\n",
      " 6   Temperature Category  50000 non-null  object \n",
      " 7   Day Status            50000 non-null  object \n",
      " 8   Ride Demand           50000 non-null  int64  \n",
      "dtypes: float64(1), int64(5), object(3)\n",
      "memory usage: 3.4+ MB\n"
     ]
    }
   ],
   "source": [
    "data.info(verbose=True)"
   ]
  },
  {
   "cell_type": "code",
   "execution_count": 11,
   "id": "dd360ff7-8141-4ff1-9245-fb816bc56847",
   "metadata": {
    "colab": {
     "base_uri": "https://localhost:8080/",
     "height": 366
    },
    "id": "dd360ff7-8141-4ff1-9245-fb816bc56847",
    "outputId": "adb92841-029a-4274-92f9-46f92ddde512"
   },
   "outputs": [
    {
     "data": {
      "text/plain": [
       "Year                    0\n",
       "Month                   0\n",
       "Date                    0\n",
       "Hour                    0\n",
       "Place                   0\n",
       "Temperature             0\n",
       "Temperature Category    0\n",
       "Day Status              0\n",
       "Ride Demand             0\n",
       "dtype: int64"
      ]
     },
     "execution_count": 11,
     "metadata": {},
     "output_type": "execute_result"
    }
   ],
   "source": [
    "#DATA PREPROCESSING\n",
    "\n",
    "# Check for missing values\n",
    "data.isnull().sum()"
   ]
  },
  {
   "cell_type": "code",
   "execution_count": 12,
   "id": "8a3301d2-247b-46cd-b6b3-8ec4418f84f5",
   "metadata": {
    "colab": {
     "base_uri": "https://localhost:8080/"
    },
    "id": "8a3301d2-247b-46cd-b6b3-8ec4418f84f5",
    "outputId": "8d6ec6c8-b6bc-4341-adb5-fcf1144696a1"
   },
   "outputs": [
    {
     "name": "stdout",
     "output_type": "stream",
     "text": [
      "Requirement already satisfied: missingno in c:\\users\\likith reddy\\appdata\\local\\programs\\python\\python313\\lib\\site-packages (0.5.2)\n",
      "Requirement already satisfied: numpy in c:\\users\\likith reddy\\appdata\\local\\programs\\python\\python313\\lib\\site-packages (from missingno) (2.1.3)\n",
      "Requirement already satisfied: matplotlib in c:\\users\\likith reddy\\appdata\\local\\programs\\python\\python313\\lib\\site-packages (from missingno) (3.9.2)\n",
      "Requirement already satisfied: scipy in c:\\users\\likith reddy\\appdata\\local\\programs\\python\\python313\\lib\\site-packages (from missingno) (1.14.1)\n",
      "Requirement already satisfied: seaborn in c:\\users\\likith reddy\\appdata\\local\\programs\\python\\python313\\lib\\site-packages (from missingno) (0.13.2)\n",
      "Requirement already satisfied: contourpy>=1.0.1 in c:\\users\\likith reddy\\appdata\\local\\programs\\python\\python313\\lib\\site-packages (from matplotlib->missingno) (1.3.1)\n",
      "Requirement already satisfied: cycler>=0.10 in c:\\users\\likith reddy\\appdata\\local\\programs\\python\\python313\\lib\\site-packages (from matplotlib->missingno) (0.12.1)\n",
      "Requirement already satisfied: fonttools>=4.22.0 in c:\\users\\likith reddy\\appdata\\local\\programs\\python\\python313\\lib\\site-packages (from matplotlib->missingno) (4.55.0)\n",
      "Requirement already satisfied: kiwisolver>=1.3.1 in c:\\users\\likith reddy\\appdata\\local\\programs\\python\\python313\\lib\\site-packages (from matplotlib->missingno) (1.4.7)\n",
      "Requirement already satisfied: packaging>=20.0 in c:\\users\\likith reddy\\appdata\\local\\programs\\python\\python313\\lib\\site-packages (from matplotlib->missingno) (24.2)\n",
      "Requirement already satisfied: pillow>=8 in c:\\users\\likith reddy\\appdata\\local\\programs\\python\\python313\\lib\\site-packages (from matplotlib->missingno) (11.0.0)\n",
      "Requirement already satisfied: pyparsing>=2.3.1 in c:\\users\\likith reddy\\appdata\\local\\programs\\python\\python313\\lib\\site-packages (from matplotlib->missingno) (3.2.0)\n",
      "Requirement already satisfied: python-dateutil>=2.7 in c:\\users\\likith reddy\\appdata\\local\\programs\\python\\python313\\lib\\site-packages (from matplotlib->missingno) (2.9.0.post0)\n",
      "Requirement already satisfied: pandas>=1.2 in c:\\users\\likith reddy\\appdata\\local\\programs\\python\\python313\\lib\\site-packages (from seaborn->missingno) (2.2.3)\n",
      "Requirement already satisfied: pytz>=2020.1 in c:\\users\\likith reddy\\appdata\\local\\programs\\python\\python313\\lib\\site-packages (from pandas>=1.2->seaborn->missingno) (2024.2)\n",
      "Requirement already satisfied: tzdata>=2022.7 in c:\\users\\likith reddy\\appdata\\local\\programs\\python\\python313\\lib\\site-packages (from pandas>=1.2->seaborn->missingno) (2024.2)\n",
      "Requirement already satisfied: six>=1.5 in c:\\users\\likith reddy\\appdata\\local\\programs\\python\\python313\\lib\\site-packages (from python-dateutil>=2.7->matplotlib->missingno) (1.16.0)\n"
     ]
    }
   ],
   "source": [
    "!pip install missingno"
   ]
  },
  {
   "cell_type": "code",
   "execution_count": 13,
   "id": "eeb324b2-2928-44c2-b870-9b29ace00c6b",
   "metadata": {
    "colab": {
     "base_uri": "https://localhost:8080/",
     "height": 412
    },
    "id": "eeb324b2-2928-44c2-b870-9b29ace00c6b",
    "outputId": "b43a72e0-8dce-4aa2-c0d4-cf66d67e2010"
   },
   "outputs": [
    {
     "data": {
      "text/plain": [
       "<Axes: >"
      ]
     },
     "execution_count": 13,
     "metadata": {},
     "output_type": "execute_result"
    },
    {
     "data": {
      "image/png": "[encoded data removed]",
      "text/plain": [
       "<Figure size 2500x1000 with 2 Axes>"
      ]
     },
     "metadata": {},
     "output_type": "display_data"
    }
   ],
   "source": [
    "import missingno as mn\n",
    "mn.matrix(data)"
   ]
  },
  {
   "cell_type": "code",
   "execution_count": 14,
   "id": "19a95190-303d-444e-9502-abe831c26ac2",
   "metadata": {
    "id": "19a95190-303d-444e-9502-abe831c26ac2"
   },
   "outputs": [],
   "source": [
    "data.drop('Temperature Category',axis=1,inplace=True)"
   ]
  },
  {
   "cell_type": "code",
   "execution_count": 15,
   "id": "dbcf7a3f-ef9e-420b-8db7-0c47d2387587",
   "metadata": {
    "colab": {
     "base_uri": "https://localhost:8080/",
     "height": 423
    },
    "id": "dbcf7a3f-ef9e-420b-8db7-0c47d2387587",
    "outputId": "4f29d0d2-c384-4724-c01f-a54862b2d606"
   },
   "outputs": [
    {
     "data": {
      "text/html": [
       "<div>\n",
       "<style scoped>\n",
       "    .dataframe tbody tr th:only-of-type {\n",
       "        vertical-align: middle;\n",
       "    }\n",
       "\n",
       "    .dataframe tbody tr th {\n",
       "        vertical-align: top;\n",
       "    }\n",
       "\n",
       "    .dataframe thead th {\n",
       "        text-align: right;\n",
       "    }\n",
       "</style>\n",
       "<table border=\"1\" class=\"dataframe\">\n",
       "  <thead>\n",
       "    <tr style=\"text-align: right;\">\n",
       "      <th></th>\n",
       "      <th>Year</th>\n",
       "      <th>Month</th>\n",
       "      <th>Date</th>\n",
       "      <th>Hour</th>\n",
       "      <th>Place</th>\n",
       "      <th>Temperature</th>\n",
       "      <th>Day Status</th>\n",
       "      <th>Ride Demand</th>\n",
       "    </tr>\n",
       "  </thead>\n",
       "  <tbody>\n",
       "    <tr>\n",
       "      <th>0</th>\n",
       "      <td>2023</td>\n",
       "      <td>3</td>\n",
       "      <td>21</td>\n",
       "      <td>19</td>\n",
       "      <td>Yeshwantpur</td>\n",
       "      <td>26.030448</td>\n",
       "      <td>Working Day</td>\n",
       "      <td>79</td>\n",
       "    </tr>\n",
       "    <tr>\n",
       "      <th>1</th>\n",
       "      <td>2024</td>\n",
       "      <td>3</td>\n",
       "      <td>1</td>\n",
       "      <td>6</td>\n",
       "      <td>Jeevanbhima Nagar</td>\n",
       "      <td>11.129214</td>\n",
       "      <td>Working Day</td>\n",
       "      <td>21</td>\n",
       "    </tr>\n",
       "    <tr>\n",
       "      <th>2</th>\n",
       "      <td>2024</td>\n",
       "      <td>3</td>\n",
       "      <td>1</td>\n",
       "      <td>5</td>\n",
       "      <td>Hebbal</td>\n",
       "      <td>23.627053</td>\n",
       "      <td>Working Day</td>\n",
       "      <td>20</td>\n",
       "    </tr>\n",
       "    <tr>\n",
       "      <th>3</th>\n",
       "      <td>2024</td>\n",
       "      <td>10</td>\n",
       "      <td>14</td>\n",
       "      <td>22</td>\n",
       "      <td>Shivajinagar</td>\n",
       "      <td>21.577774</td>\n",
       "      <td>Working Day</td>\n",
       "      <td>75</td>\n",
       "    </tr>\n",
       "    <tr>\n",
       "      <th>4</th>\n",
       "      <td>2024</td>\n",
       "      <td>1</td>\n",
       "      <td>14</td>\n",
       "      <td>21</td>\n",
       "      <td>JP Nagar</td>\n",
       "      <td>21.868797</td>\n",
       "      <td>Holiday</td>\n",
       "      <td>137</td>\n",
       "    </tr>\n",
       "    <tr>\n",
       "      <th>...</th>\n",
       "      <td>...</td>\n",
       "      <td>...</td>\n",
       "      <td>...</td>\n",
       "      <td>...</td>\n",
       "      <td>...</td>\n",
       "      <td>...</td>\n",
       "      <td>...</td>\n",
       "      <td>...</td>\n",
       "    </tr>\n",
       "    <tr>\n",
       "      <th>49995</th>\n",
       "      <td>2023</td>\n",
       "      <td>8</td>\n",
       "      <td>27</td>\n",
       "      <td>13</td>\n",
       "      <td>Hebbal</td>\n",
       "      <td>28.173692</td>\n",
       "      <td>Holiday</td>\n",
       "      <td>82</td>\n",
       "    </tr>\n",
       "    <tr>\n",
       "      <th>49996</th>\n",
       "      <td>2023</td>\n",
       "      <td>8</td>\n",
       "      <td>14</td>\n",
       "      <td>4</td>\n",
       "      <td>Rajarajeshwari Nagar</td>\n",
       "      <td>20.494605</td>\n",
       "      <td>Working Day</td>\n",
       "      <td>24</td>\n",
       "    </tr>\n",
       "    <tr>\n",
       "      <th>49997</th>\n",
       "      <td>2022</td>\n",
       "      <td>6</td>\n",
       "      <td>23</td>\n",
       "      <td>19</td>\n",
       "      <td>Bannerghatta</td>\n",
       "      <td>18.726419</td>\n",
       "      <td>Working Day</td>\n",
       "      <td>75</td>\n",
       "    </tr>\n",
       "    <tr>\n",
       "      <th>49998</th>\n",
       "      <td>2022</td>\n",
       "      <td>12</td>\n",
       "      <td>6</td>\n",
       "      <td>4</td>\n",
       "      <td>Seshadripuram</td>\n",
       "      <td>24.965305</td>\n",
       "      <td>Working Day</td>\n",
       "      <td>20</td>\n",
       "    </tr>\n",
       "    <tr>\n",
       "      <th>49999</th>\n",
       "      <td>2024</td>\n",
       "      <td>3</td>\n",
       "      <td>27</td>\n",
       "      <td>7</td>\n",
       "      <td>Shivajinagar</td>\n",
       "      <td>24.093308</td>\n",
       "      <td>Working Day</td>\n",
       "      <td>102</td>\n",
       "    </tr>\n",
       "  </tbody>\n",
       "</table>\n",
       "<p>50000 rows × 8 columns</p>\n",
       "</div>"
      ],
      "text/plain": [
       "       Year  Month  Date  Hour                 Place  Temperature  \\\n",
       "0      2023      3    21    19           Yeshwantpur    26.030448   \n",
       "1      2024      3     1     6     Jeevanbhima Nagar    11.129214   \n",
       "2      2024      3     1     5                Hebbal    23.627053   \n",
       "3      2024     10    14    22          Shivajinagar    21.577774   \n",
       "4      2024      1    14    21              JP Nagar    21.868797   \n",
       "...     ...    ...   ...   ...                   ...          ...   \n",
       "49995  2023      8    27    13                Hebbal    28.173692   \n",
       "49996  2023      8    14     4  Rajarajeshwari Nagar    20.494605   \n",
       "49997  2022      6    23    19          Bannerghatta    18.726419   \n",
       "49998  2022     12     6     4         Seshadripuram    24.965305   \n",
       "49999  2024      3    27     7          Shivajinagar    24.093308   \n",
       "\n",
       "        Day Status  Ride Demand  \n",
       "0      Working Day           79  \n",
       "1      Working Day           21  \n",
       "2      Working Day           20  \n",
       "3      Working Day           75  \n",
       "4          Holiday          137  \n",
       "...            ...          ...  \n",
       "49995      Holiday           82  \n",
       "49996  Working Day           24  \n",
       "49997  Working Day           75  \n",
       "49998  Working Day           20  \n",
       "49999  Working Day          102  \n",
       "\n",
       "[50000 rows x 8 columns]"
      ]
     },
     "execution_count": 15,
     "metadata": {},
     "output_type": "execute_result"
    }
   ],
   "source": [
    "data"
   ]
  },
  {
   "cell_type": "code",
   "execution_count": 16,
   "id": "50b4deaa-217b-425e-b0b6-d9ffe077358c",
   "metadata": {
    "colab": {
     "base_uri": "https://localhost:8080/"
    },
    "id": "50b4deaa-217b-425e-b0b6-d9ffe077358c",
    "outputId": "de1e3aaf-113a-431c-b173-280def9fe3ec"
   },
   "outputs": [
    {
     "name": "stdout",
     "output_type": "stream",
     "text": [
      "Missing values in numerical columns have been handled.\n"
     ]
    }
   ],
   "source": [
    "\n",
    "# Filling missing values (imputing categorical and numerical separately)\n",
    "\n",
    "from sklearn.impute import SimpleImputer\n",
    "\n",
    "# lets Separate numerical and categorical columns\n",
    "numerical_columns = ['Temperature', 'Ride Demand']\n",
    "categorical_columns = ['Place','Day Status']\n",
    "\n",
    "# SimpleImputer is used for numerical columns (replacing missing values with mean strategy)\n",
    "sc = SimpleImputer(strategy='mean')\n",
    "\n",
    "# Impute and update the dataframe\n",
    "data[numerical_columns] = sc.fit_transform(data[numerical_columns])\n",
    "\n",
    "print(\"Missing values in numerical columns have been handled.\")\n",
    "\n",
    "\n",
    "\n",
    "# data['Weather'].fillna('Sunny', inplace=True)  # Impute 'Sunny' for Weather\n",
    "# data['Temp'].fillna(data['Temp'].mean(), inplace=True)  # Impute mean for Temp\n",
    "# data['Ride_Demand'].fillna(data['Ride_Demand'].median(), inplace=True)  # Median for demand\n",
    "\n",
    "\n"
   ]
  },
  {
   "cell_type": "code",
   "execution_count": 17,
   "id": "45ecd345-c714-405f-8135-24a948d4f780",
   "metadata": {
    "colab": {
     "base_uri": "https://localhost:8080/"
    },
    "id": "45ecd345-c714-405f-8135-24a948d4f780",
    "outputId": "168e1fdd-0a09-4e86-94e0-0cf37ca520c7"
   },
   "outputs": [
    {
     "name": "stdout",
     "output_type": "stream",
     "text": [
      "Categorical missing values have been encoded and imputed successfully!\n"
     ]
    }
   ],
   "source": [
    "from sklearn.impute import KNNImputer\n",
    "from sklearn.preprocessing import LabelEncoder\n",
    "\n",
    "# Initializing LabelEncoder for each categorical column\n",
    "label_encoders = {}\n",
    "encoded_data = data[categorical_columns].copy()\n",
    "\n",
    "# Encoding categorical columns to numeric\n",
    "for column in categorical_columns:\n",
    "    le = LabelEncoder()\n",
    "    encoded_data[column] = le.fit_transform(data[column].astype(str))\n",
    "    label_encoders[column] = le\n",
    "\n",
    "# Applying KNN Imputer\n",
    "knn_imputer = KNNImputer(n_neighbors=5)\n",
    "imputed_data = pd.DataFrame(knn_imputer.fit_transform(encoded_data), columns=categorical_columns)\n",
    "\n",
    "# Updating the original dataframe with imputed numeric data\n",
    "data[categorical_columns] = imputed_data\n",
    "data['Temperature'] = data['Temperature'].round(0)\n",
    "data['Ride Demand'] = data['Ride Demand'].round(0)\n",
    "\n",
    "\n",
    "print(\"Categorical missing values have been encoded and imputed successfully!\")\n"
   ]
  },
  {
   "cell_type": "code",
   "execution_count": 18,
   "id": "a487640a-e90f-4a52-b3c7-bce1eb27c55e",
   "metadata": {
    "colab": {
     "base_uri": "https://localhost:8080/",
     "height": 423
    },
    "id": "a487640a-e90f-4a52-b3c7-bce1eb27c55e",
    "outputId": "65311cc2-f0bf-4a0f-d69a-c470547413cd"
   },
   "outputs": [
    {
     "data": {
      "text/html": [
       "<div>\n",
       "<style scoped>\n",
       "    .dataframe tbody tr th:only-of-type {\n",
       "        vertical-align: middle;\n",
       "    }\n",
       "\n",
       "    .dataframe tbody tr th {\n",
       "        vertical-align: top;\n",
       "    }\n",
       "\n",
       "    .dataframe thead th {\n",
       "        text-align: right;\n",
       "    }\n",
       "</style>\n",
       "<table border=\"1\" class=\"dataframe\">\n",
       "  <thead>\n",
       "    <tr style=\"text-align: right;\">\n",
       "      <th></th>\n",
       "      <th>Year</th>\n",
       "      <th>Month</th>\n",
       "      <th>Date</th>\n",
       "      <th>Hour</th>\n",
       "      <th>Place</th>\n",
       "      <th>Temperature</th>\n",
       "      <th>Day Status</th>\n",
       "      <th>Ride Demand</th>\n",
       "    </tr>\n",
       "  </thead>\n",
       "  <tbody>\n",
       "    <tr>\n",
       "      <th>0</th>\n",
       "      <td>2023</td>\n",
       "      <td>3</td>\n",
       "      <td>21</td>\n",
       "      <td>19</td>\n",
       "      <td>26.0</td>\n",
       "      <td>26.0</td>\n",
       "      <td>1.0</td>\n",
       "      <td>79.0</td>\n",
       "    </tr>\n",
       "    <tr>\n",
       "      <th>1</th>\n",
       "      <td>2024</td>\n",
       "      <td>3</td>\n",
       "      <td>1</td>\n",
       "      <td>6</td>\n",
       "      <td>10.0</td>\n",
       "      <td>11.0</td>\n",
       "      <td>1.0</td>\n",
       "      <td>21.0</td>\n",
       "    </tr>\n",
       "    <tr>\n",
       "      <th>2</th>\n",
       "      <td>2024</td>\n",
       "      <td>3</td>\n",
       "      <td>1</td>\n",
       "      <td>5</td>\n",
       "      <td>6.0</td>\n",
       "      <td>24.0</td>\n",
       "      <td>1.0</td>\n",
       "      <td>20.0</td>\n",
       "    </tr>\n",
       "    <tr>\n",
       "      <th>3</th>\n",
       "      <td>2024</td>\n",
       "      <td>10</td>\n",
       "      <td>14</td>\n",
       "      <td>22</td>\n",
       "      <td>20.0</td>\n",
       "      <td>22.0</td>\n",
       "      <td>1.0</td>\n",
       "      <td>75.0</td>\n",
       "    </tr>\n",
       "    <tr>\n",
       "      <th>4</th>\n",
       "      <td>2024</td>\n",
       "      <td>1</td>\n",
       "      <td>14</td>\n",
       "      <td>21</td>\n",
       "      <td>8.0</td>\n",
       "      <td>22.0</td>\n",
       "      <td>0.0</td>\n",
       "      <td>137.0</td>\n",
       "    </tr>\n",
       "    <tr>\n",
       "      <th>...</th>\n",
       "      <td>...</td>\n",
       "      <td>...</td>\n",
       "      <td>...</td>\n",
       "      <td>...</td>\n",
       "      <td>...</td>\n",
       "      <td>...</td>\n",
       "      <td>...</td>\n",
       "      <td>...</td>\n",
       "    </tr>\n",
       "    <tr>\n",
       "      <th>49995</th>\n",
       "      <td>2023</td>\n",
       "      <td>8</td>\n",
       "      <td>27</td>\n",
       "      <td>13</td>\n",
       "      <td>6.0</td>\n",
       "      <td>28.0</td>\n",
       "      <td>0.0</td>\n",
       "      <td>82.0</td>\n",
       "    </tr>\n",
       "    <tr>\n",
       "      <th>49996</th>\n",
       "      <td>2023</td>\n",
       "      <td>8</td>\n",
       "      <td>14</td>\n",
       "      <td>4</td>\n",
       "      <td>17.0</td>\n",
       "      <td>20.0</td>\n",
       "      <td>1.0</td>\n",
       "      <td>24.0</td>\n",
       "    </tr>\n",
       "    <tr>\n",
       "      <th>49997</th>\n",
       "      <td>2022</td>\n",
       "      <td>6</td>\n",
       "      <td>23</td>\n",
       "      <td>19</td>\n",
       "      <td>2.0</td>\n",
       "      <td>19.0</td>\n",
       "      <td>1.0</td>\n",
       "      <td>75.0</td>\n",
       "    </tr>\n",
       "    <tr>\n",
       "      <th>49998</th>\n",
       "      <td>2022</td>\n",
       "      <td>12</td>\n",
       "      <td>6</td>\n",
       "      <td>4</td>\n",
       "      <td>19.0</td>\n",
       "      <td>25.0</td>\n",
       "      <td>1.0</td>\n",
       "      <td>20.0</td>\n",
       "    </tr>\n",
       "    <tr>\n",
       "      <th>49999</th>\n",
       "      <td>2024</td>\n",
       "      <td>3</td>\n",
       "      <td>27</td>\n",
       "      <td>7</td>\n",
       "      <td>20.0</td>\n",
       "      <td>24.0</td>\n",
       "      <td>1.0</td>\n",
       "      <td>102.0</td>\n",
       "    </tr>\n",
       "  </tbody>\n",
       "</table>\n",
       "<p>50000 rows × 8 columns</p>\n",
       "</div>"
      ],
      "text/plain": [
       "       Year  Month  Date  Hour  Place  Temperature  Day Status  Ride Demand\n",
       "0      2023      3    21    19   26.0         26.0         1.0         79.0\n",
       "1      2024      3     1     6   10.0         11.0         1.0         21.0\n",
       "2      2024      3     1     5    6.0         24.0         1.0         20.0\n",
       "3      2024     10    14    22   20.0         22.0         1.0         75.0\n",
       "4      2024      1    14    21    8.0         22.0         0.0        137.0\n",
       "...     ...    ...   ...   ...    ...          ...         ...          ...\n",
       "49995  2023      8    27    13    6.0         28.0         0.0         82.0\n",
       "49996  2023      8    14     4   17.0         20.0         1.0         24.0\n",
       "49997  2022      6    23    19    2.0         19.0         1.0         75.0\n",
       "49998  2022     12     6     4   19.0         25.0         1.0         20.0\n",
       "49999  2024      3    27     7   20.0         24.0         1.0        102.0\n",
       "\n",
       "[50000 rows x 8 columns]"
      ]
     },
     "execution_count": 18,
     "metadata": {},
     "output_type": "execute_result"
    }
   ],
   "source": [
    "data"
   ]
  },
  {
   "cell_type": "code",
   "execution_count": 19,
   "id": "6e7c1125-f600-49a4-969d-bd9de03af65a",
   "metadata": {
    "colab": {
     "base_uri": "https://localhost:8080/"
    },
    "id": "6e7c1125-f600-49a4-969d-bd9de03af65a",
    "outputId": "cfea9b4d-1640-40a7-acf6-cb12eaa1bc57"
   },
   "outputs": [
    {
     "name": "stdout",
     "output_type": "stream",
     "text": [
      "Year           0\n",
      "Month          0\n",
      "Date           0\n",
      "Hour           0\n",
      "Place          0\n",
      "Temperature    0\n",
      "Day Status     0\n",
      "Ride Demand    0\n",
      "dtype: int64\n",
      "Missing values are successfully handled in both categorical and numerical columns\n"
     ]
    }
   ],
   "source": [
    "print(data.isnull().sum())\n",
    "print(\"Missing values are successfully handled in both categorical and numerical columns\")"
   ]
  },
  {
   "cell_type": "code",
   "execution_count": 20,
   "id": "91ca3e4d-4871-47ed-94e4-d888b61ff86d",
   "metadata": {
    "colab": {
     "base_uri": "https://localhost:8080/",
     "height": 385
    },
    "id": "91ca3e4d-4871-47ed-94e4-d888b61ff86d",
    "outputId": "60d47ae2-7057-45d8-e407-e3b7eced7894"
   },
   "outputs": [
    {
     "data": {
      "text/plain": [
       "<Axes: >"
      ]
     },
     "execution_count": 20,
     "metadata": {},
     "output_type": "execute_result"
    },
    {
     "data": {
      "image/png": "[encoded data removed]",
      "text/plain": [
       "<Figure size 2500x1000 with 2 Axes>"
      ]
     },
     "metadata": {},
     "output_type": "display_data"
    }
   ],
   "source": [
    "mn.matrix(data)"
   ]
  },
  {
   "cell_type": "code",
   "execution_count": 21,
   "id": "5574b69d-5005-4805-b096-967ff8893f6f",
   "metadata": {
    "colab": {
     "base_uri": "https://localhost:8080/",
     "height": 362
    },
    "id": "5574b69d-5005-4805-b096-967ff8893f6f",
    "outputId": "0b201ab0-7a1f-4324-fa39-512d255782eb"
   },
   "outputs": [
    {
     "data": {
      "text/html": [
       "<div>\n",
       "<style scoped>\n",
       "    .dataframe tbody tr th:only-of-type {\n",
       "        vertical-align: middle;\n",
       "    }\n",
       "\n",
       "    .dataframe tbody tr th {\n",
       "        vertical-align: top;\n",
       "    }\n",
       "\n",
       "    .dataframe thead th {\n",
       "        text-align: right;\n",
       "    }\n",
       "</style>\n",
       "<table border=\"1\" class=\"dataframe\">\n",
       "  <thead>\n",
       "    <tr style=\"text-align: right;\">\n",
       "      <th></th>\n",
       "      <th>Year</th>\n",
       "      <th>Month</th>\n",
       "      <th>Date</th>\n",
       "      <th>Hour</th>\n",
       "      <th>Place</th>\n",
       "      <th>Temperature</th>\n",
       "      <th>Day Status</th>\n",
       "      <th>Ride Demand</th>\n",
       "    </tr>\n",
       "  </thead>\n",
       "  <tbody>\n",
       "    <tr>\n",
       "      <th>0</th>\n",
       "      <td>2023</td>\n",
       "      <td>3</td>\n",
       "      <td>21</td>\n",
       "      <td>19</td>\n",
       "      <td>26.0</td>\n",
       "      <td>26.0</td>\n",
       "      <td>1.0</td>\n",
       "      <td>79.0</td>\n",
       "    </tr>\n",
       "    <tr>\n",
       "      <th>1</th>\n",
       "      <td>2024</td>\n",
       "      <td>3</td>\n",
       "      <td>1</td>\n",
       "      <td>6</td>\n",
       "      <td>10.0</td>\n",
       "      <td>11.0</td>\n",
       "      <td>1.0</td>\n",
       "      <td>21.0</td>\n",
       "    </tr>\n",
       "    <tr>\n",
       "      <th>2</th>\n",
       "      <td>2024</td>\n",
       "      <td>3</td>\n",
       "      <td>1</td>\n",
       "      <td>5</td>\n",
       "      <td>6.0</td>\n",
       "      <td>24.0</td>\n",
       "      <td>1.0</td>\n",
       "      <td>20.0</td>\n",
       "    </tr>\n",
       "    <tr>\n",
       "      <th>3</th>\n",
       "      <td>2024</td>\n",
       "      <td>10</td>\n",
       "      <td>14</td>\n",
       "      <td>22</td>\n",
       "      <td>20.0</td>\n",
       "      <td>22.0</td>\n",
       "      <td>1.0</td>\n",
       "      <td>75.0</td>\n",
       "    </tr>\n",
       "    <tr>\n",
       "      <th>4</th>\n",
       "      <td>2024</td>\n",
       "      <td>1</td>\n",
       "      <td>14</td>\n",
       "      <td>21</td>\n",
       "      <td>8.0</td>\n",
       "      <td>22.0</td>\n",
       "      <td>0.0</td>\n",
       "      <td>137.0</td>\n",
       "    </tr>\n",
       "    <tr>\n",
       "      <th>5</th>\n",
       "      <td>2024</td>\n",
       "      <td>5</td>\n",
       "      <td>23</td>\n",
       "      <td>18</td>\n",
       "      <td>1.0</td>\n",
       "      <td>28.0</td>\n",
       "      <td>1.0</td>\n",
       "      <td>96.0</td>\n",
       "    </tr>\n",
       "    <tr>\n",
       "      <th>6</th>\n",
       "      <td>2024</td>\n",
       "      <td>4</td>\n",
       "      <td>17</td>\n",
       "      <td>23</td>\n",
       "      <td>13.0</td>\n",
       "      <td>30.0</td>\n",
       "      <td>1.0</td>\n",
       "      <td>54.0</td>\n",
       "    </tr>\n",
       "    <tr>\n",
       "      <th>7</th>\n",
       "      <td>2024</td>\n",
       "      <td>5</td>\n",
       "      <td>22</td>\n",
       "      <td>5</td>\n",
       "      <td>3.0</td>\n",
       "      <td>26.0</td>\n",
       "      <td>1.0</td>\n",
       "      <td>21.0</td>\n",
       "    </tr>\n",
       "    <tr>\n",
       "      <th>8</th>\n",
       "      <td>2022</td>\n",
       "      <td>8</td>\n",
       "      <td>26</td>\n",
       "      <td>8</td>\n",
       "      <td>15.0</td>\n",
       "      <td>16.0</td>\n",
       "      <td>1.0</td>\n",
       "      <td>34.0</td>\n",
       "    </tr>\n",
       "    <tr>\n",
       "      <th>9</th>\n",
       "      <td>2023</td>\n",
       "      <td>7</td>\n",
       "      <td>12</td>\n",
       "      <td>20</td>\n",
       "      <td>22.0</td>\n",
       "      <td>24.0</td>\n",
       "      <td>1.0</td>\n",
       "      <td>128.0</td>\n",
       "    </tr>\n",
       "  </tbody>\n",
       "</table>\n",
       "</div>"
      ],
      "text/plain": [
       "   Year  Month  Date  Hour  Place  Temperature  Day Status  Ride Demand\n",
       "0  2023      3    21    19   26.0         26.0         1.0         79.0\n",
       "1  2024      3     1     6   10.0         11.0         1.0         21.0\n",
       "2  2024      3     1     5    6.0         24.0         1.0         20.0\n",
       "3  2024     10    14    22   20.0         22.0         1.0         75.0\n",
       "4  2024      1    14    21    8.0         22.0         0.0        137.0\n",
       "5  2024      5    23    18    1.0         28.0         1.0         96.0\n",
       "6  2024      4    17    23   13.0         30.0         1.0         54.0\n",
       "7  2024      5    22     5    3.0         26.0         1.0         21.0\n",
       "8  2022      8    26     8   15.0         16.0         1.0         34.0\n",
       "9  2023      7    12    20   22.0         24.0         1.0        128.0"
      ]
     },
     "execution_count": 21,
     "metadata": {},
     "output_type": "execute_result"
    }
   ],
   "source": [
    "data.head(10)"
   ]
  },
  {
   "cell_type": "code",
   "execution_count": 22,
   "id": "2af92016-00f3-4032-8083-a271bc6e6c14",
   "metadata": {
    "colab": {
     "base_uri": "https://localhost:8080/",
     "height": 423
    },
    "id": "2af92016-00f3-4032-8083-a271bc6e6c14",
    "outputId": "44ad6e9b-6d72-4135-f3a2-0db70aff8551"
   },
   "outputs": [
    {
     "data": {
      "text/html": [
       "<div>\n",
       "<style scoped>\n",
       "    .dataframe tbody tr th:only-of-type {\n",
       "        vertical-align: middle;\n",
       "    }\n",
       "\n",
       "    .dataframe tbody tr th {\n",
       "        vertical-align: top;\n",
       "    }\n",
       "\n",
       "    .dataframe thead th {\n",
       "        text-align: right;\n",
       "    }\n",
       "</style>\n",
       "<table border=\"1\" class=\"dataframe\">\n",
       "  <thead>\n",
       "    <tr style=\"text-align: right;\">\n",
       "      <th></th>\n",
       "      <th>Year</th>\n",
       "      <th>Month</th>\n",
       "      <th>Date</th>\n",
       "      <th>Hour</th>\n",
       "      <th>Place</th>\n",
       "      <th>Temperature</th>\n",
       "      <th>Day Status</th>\n",
       "      <th>Ride Demand</th>\n",
       "    </tr>\n",
       "  </thead>\n",
       "  <tbody>\n",
       "    <tr>\n",
       "      <th>0</th>\n",
       "      <td>2023</td>\n",
       "      <td>3</td>\n",
       "      <td>21</td>\n",
       "      <td>19</td>\n",
       "      <td>26.0</td>\n",
       "      <td>26.0</td>\n",
       "      <td>1.0</td>\n",
       "      <td>79.0</td>\n",
       "    </tr>\n",
       "    <tr>\n",
       "      <th>1</th>\n",
       "      <td>2024</td>\n",
       "      <td>3</td>\n",
       "      <td>1</td>\n",
       "      <td>6</td>\n",
       "      <td>10.0</td>\n",
       "      <td>11.0</td>\n",
       "      <td>1.0</td>\n",
       "      <td>21.0</td>\n",
       "    </tr>\n",
       "    <tr>\n",
       "      <th>2</th>\n",
       "      <td>2024</td>\n",
       "      <td>3</td>\n",
       "      <td>1</td>\n",
       "      <td>5</td>\n",
       "      <td>6.0</td>\n",
       "      <td>24.0</td>\n",
       "      <td>1.0</td>\n",
       "      <td>20.0</td>\n",
       "    </tr>\n",
       "    <tr>\n",
       "      <th>3</th>\n",
       "      <td>2024</td>\n",
       "      <td>10</td>\n",
       "      <td>14</td>\n",
       "      <td>22</td>\n",
       "      <td>20.0</td>\n",
       "      <td>22.0</td>\n",
       "      <td>1.0</td>\n",
       "      <td>75.0</td>\n",
       "    </tr>\n",
       "    <tr>\n",
       "      <th>4</th>\n",
       "      <td>2024</td>\n",
       "      <td>1</td>\n",
       "      <td>14</td>\n",
       "      <td>21</td>\n",
       "      <td>8.0</td>\n",
       "      <td>22.0</td>\n",
       "      <td>0.0</td>\n",
       "      <td>137.0</td>\n",
       "    </tr>\n",
       "    <tr>\n",
       "      <th>...</th>\n",
       "      <td>...</td>\n",
       "      <td>...</td>\n",
       "      <td>...</td>\n",
       "      <td>...</td>\n",
       "      <td>...</td>\n",
       "      <td>...</td>\n",
       "      <td>...</td>\n",
       "      <td>...</td>\n",
       "    </tr>\n",
       "    <tr>\n",
       "      <th>49995</th>\n",
       "      <td>2023</td>\n",
       "      <td>8</td>\n",
       "      <td>27</td>\n",
       "      <td>13</td>\n",
       "      <td>6.0</td>\n",
       "      <td>28.0</td>\n",
       "      <td>0.0</td>\n",
       "      <td>82.0</td>\n",
       "    </tr>\n",
       "    <tr>\n",
       "      <th>49996</th>\n",
       "      <td>2023</td>\n",
       "      <td>8</td>\n",
       "      <td>14</td>\n",
       "      <td>4</td>\n",
       "      <td>17.0</td>\n",
       "      <td>20.0</td>\n",
       "      <td>1.0</td>\n",
       "      <td>24.0</td>\n",
       "    </tr>\n",
       "    <tr>\n",
       "      <th>49997</th>\n",
       "      <td>2022</td>\n",
       "      <td>6</td>\n",
       "      <td>23</td>\n",
       "      <td>19</td>\n",
       "      <td>2.0</td>\n",
       "      <td>19.0</td>\n",
       "      <td>1.0</td>\n",
       "      <td>75.0</td>\n",
       "    </tr>\n",
       "    <tr>\n",
       "      <th>49998</th>\n",
       "      <td>2022</td>\n",
       "      <td>12</td>\n",
       "      <td>6</td>\n",
       "      <td>4</td>\n",
       "      <td>19.0</td>\n",
       "      <td>25.0</td>\n",
       "      <td>1.0</td>\n",
       "      <td>20.0</td>\n",
       "    </tr>\n",
       "    <tr>\n",
       "      <th>49999</th>\n",
       "      <td>2024</td>\n",
       "      <td>3</td>\n",
       "      <td>27</td>\n",
       "      <td>7</td>\n",
       "      <td>20.0</td>\n",
       "      <td>24.0</td>\n",
       "      <td>1.0</td>\n",
       "      <td>102.0</td>\n",
       "    </tr>\n",
       "  </tbody>\n",
       "</table>\n",
       "<p>50000 rows × 8 columns</p>\n",
       "</div>"
      ],
      "text/plain": [
       "       Year  Month  Date  Hour  Place  Temperature  Day Status  Ride Demand\n",
       "0      2023      3    21    19   26.0         26.0         1.0         79.0\n",
       "1      2024      3     1     6   10.0         11.0         1.0         21.0\n",
       "2      2024      3     1     5    6.0         24.0         1.0         20.0\n",
       "3      2024     10    14    22   20.0         22.0         1.0         75.0\n",
       "4      2024      1    14    21    8.0         22.0         0.0        137.0\n",
       "...     ...    ...   ...   ...    ...          ...         ...          ...\n",
       "49995  2023      8    27    13    6.0         28.0         0.0         82.0\n",
       "49996  2023      8    14     4   17.0         20.0         1.0         24.0\n",
       "49997  2022      6    23    19    2.0         19.0         1.0         75.0\n",
       "49998  2022     12     6     4   19.0         25.0         1.0         20.0\n",
       "49999  2024      3    27     7   20.0         24.0         1.0        102.0\n",
       "\n",
       "[50000 rows x 8 columns]"
      ]
     },
     "execution_count": 22,
     "metadata": {},
     "output_type": "execute_result"
    }
   ],
   "source": [
    "data"
   ]
  },
  {
   "cell_type": "code",
   "execution_count": 23,
   "id": "a1ef6355-85d6-4bde-8dfa-b274c036d5f7",
   "metadata": {
    "colab": {
     "base_uri": "https://localhost:8080/"
    },
    "id": "a1ef6355-85d6-4bde-8dfa-b274c036d5f7",
    "outputId": "bd4bc94b-683f-4a70-a980-a19daabb7a82"
   },
   "outputs": [
    {
     "name": "stdout",
     "output_type": "stream",
     "text": [
      "Number of outliers detected: 98\n",
      "       Year  Month  Date  Hour  Place  Temperature  Day Status  Ride Demand  \\\n",
      "788    2023      1    16    23   12.0          4.0         1.0         51.0   \n",
      "1367   2024      7     8    23   24.0          4.0         1.0         82.0   \n",
      "1492   2024      7    12    13   25.0         43.0         1.0         57.0   \n",
      "1869   2024      5     7     1    7.0         42.0         1.0         24.0   \n",
      "1978   2024      2     1     6   18.0         42.0         1.0         21.0   \n",
      "...     ...    ...   ...   ...    ...          ...         ...          ...   \n",
      "47686  2023      1    18    15   11.0         43.0         1.0         62.0   \n",
      "48220  2023      2    20     8   13.0          4.0         1.0         74.0   \n",
      "48640  2023     11     9     4   16.0         44.0         1.0         20.0   \n",
      "49144  2024      5    16    22   22.0         -1.0         1.0         64.0   \n",
      "49285  2023      2    19    10   16.0         43.0         0.0         82.0   \n",
      "\n",
      "        Z-Score  \n",
      "788   -3.164873  \n",
      "1367  -3.164873  \n",
      "1492   3.318451  \n",
      "1869   3.152212  \n",
      "1978   3.152212  \n",
      "...         ...  \n",
      "47686  3.318451  \n",
      "48220 -3.164873  \n",
      "48640  3.484690  \n",
      "49144 -3.996068  \n",
      "49285  3.318451  \n",
      "\n",
      "[98 rows x 9 columns]\n"
     ]
    }
   ],
   "source": [
    "\n",
    "\n",
    "\n",
    "# Calculate Z-scores for the 'Temperature' column\n",
    "temperature_mean = data['Temperature'].mean()\n",
    "temperature_std = data['Temperature'].std()\n",
    "\n",
    "# Z-score for each value in the 'Temperature' column\n",
    "data['Z-Score'] = (data['Temperature'] - temperature_mean) / temperature_std\n",
    "\n",
    "# Detect outliers where absolute Z-score is greater than 3\n",
    "outliers = data[abs(data['Z-Score']) > 3]\n",
    "\n",
    "# # Optionally, print or save the outliers to a new file\n",
    "# outliers.to_csv('/mnt/data/detected_outliers.csv', index=False)\n",
    "\n",
    "# Display the number of outliers detected\n",
    "print(f\"Number of outliers detected: {len(outliers)}\")\n",
    "print(outliers)\n"
   ]
  },
  {
   "cell_type": "code",
   "execution_count": 24,
   "id": "3c3db936-13fc-4ab4-abb4-a63617bc095b",
   "metadata": {
    "colab": {
     "base_uri": "https://localhost:8080/"
    },
    "id": "3c3db936-13fc-4ab4-abb4-a63617bc095b",
    "outputId": "a258bc1e-4c68-4475-8080-0a3d1c21b983"
   },
   "outputs": [
    {
     "name": "stdout",
     "output_type": "stream",
     "text": [
      "Imputed dataset size: 50000\n"
     ]
    }
   ],
   "source": [
    "from scipy.stats import zscore\n",
    "\n",
    "# Assuming 'data' is your DataFrame and 'Temperature' is the column with outliers\n",
    "\n",
    "# Calculate Z-scores for the 'Temperature' column\n",
    "data['Temperature_ZScore'] = zscore(data['Temperature'])\n",
    "\n",
    "# Define the Z-score threshold for outliers (usually 3 or -3)\n",
    "threshold = 3\n",
    "\n",
    "# Find outliers (absolute Z-score greater than the threshold)\n",
    "outliers = np.abs(data['Temperature_ZScore']) > threshold\n",
    "\n",
    "# Impute the outliers with the median value of the column (you can also use mean, or another method)\n",
    "imputed_value = data['Temperature'].mean()\n",
    "\n",
    "# Replace the outliers in 'Temperature' with the imputed value\n",
    "data.loc[outliers, 'Temperature'] = imputed_value\n",
    "\n",
    "# Drop the Z-score column as it's no longer needed\n",
    "data = data.drop(columns=['Temperature_ZScore'])\n",
    "\n",
    "# Display the updated data\n",
    "print(f\"Imputed dataset size: {len(data)}\")\n",
    "\n",
    "# Optionally, save the imputed data to a CSV file\n",
    "# data.to_csv('imputed_data.csv', index=False)\n"
   ]
  },
  {
   "cell_type": "code",
   "execution_count": 25,
   "id": "dc4bc06a-c42c-4032-9230-513d4824241a",
   "metadata": {
    "colab": {
     "base_uri": "https://localhost:8080/"
    },
    "id": "dc4bc06a-c42c-4032-9230-513d4824241a",
    "outputId": "9987230a-c320-4517-86e8-3fb3ba559aef"
   },
   "outputs": [
    {
     "name": "stdout",
     "output_type": "stream",
     "text": [
      "Updated dataset with imputed ride demand. New size: 50000\n",
      "count    50000.00000\n",
      "mean        70.51430\n",
      "std         37.06961\n",
      "min         20.00000\n",
      "25%         25.00000\n",
      "50%         76.00000\n",
      "75%        100.00000\n",
      "max        171.00000\n",
      "Name: Ride Demand, dtype: float64\n"
     ]
    }
   ],
   "source": [
    "# Calculate Z-scores for the 'Ride Demand' column\n",
    "data['RideDemand_ZScore'] = zscore(data['Ride Demand'])\n",
    "\n",
    "# Define Z-score threshold for outliers (usually 3 or -3)\n",
    "threshold = 3\n",
    "\n",
    "# Find outliers in 'Ride Demand' column\n",
    "outliers_ride_demand = np.abs(data['RideDemand_ZScore']) > threshold\n",
    "\n",
    "# Impute outliers with the median or mean (or handle according to your strategy)\n",
    "imputed_value_ride_demand = data['Ride Demand'].mean()  # You can also use mean\n",
    "\n",
    "# Replace the outliers with the imputed value\n",
    "data.loc[outliers_ride_demand, 'Ride Demand'] = imputed_value_ride_demand\n",
    "\n",
    "# Drop the Z-score column as it's no longer needed\n",
    "data = data.drop(columns=['RideDemand_ZScore'])\n",
    "\n",
    "# Display the updated data (optional)\n",
    "print(f\"Updated dataset with imputed ride demand. New size: {len(data)}\")\n",
    "\n",
    "# Optionally, save the updated data to a new CSV file\n",
    "# data.to_csv('updated_data.csv', index=False)\n",
    "\n",
    "# Show a brief summary of the 'Ride Demand' column after imputation\n",
    "print(data['Ride Demand'].describe())\n"
   ]
  },
  {
   "cell_type": "code",
   "execution_count": 26,
   "id": "7b6f51d1-6b77-4abb-8790-4563195ebac1",
   "metadata": {
    "colab": {
     "base_uri": "https://localhost:8080/",
     "height": 655
    },
    "id": "7b6f51d1-6b77-4abb-8790-4563195ebac1",
    "outputId": "e15870cb-f9e8-49b8-ec48-941346ceec8e"
   },
   "outputs": [
    {
     "name": "stdout",
     "output_type": "stream",
     "text": [
      "Average ride demand per year:\n",
      "Year\n",
      "2022    60.929658\n",
      "2023    68.544108\n",
      "2024    75.541880\n",
      "Name: Ride Demand, dtype: float64\n"
     ]
    },
    {
     "data": {
      "image/png": "[encoded data removed]",
      "text/plain": [
       "<Figure size 1000x600 with 1 Axes>"
      ]
     },
     "metadata": {},
     "output_type": "display_data"
    },
    {
     "name": "stdout",
     "output_type": "stream",
     "text": [
      "T-statistic: -17.961006691765935, P-value: 7.546455060822825e-72\n",
      "There is a significant difference in ride demand between the years.\n"
     ]
    }
   ],
   "source": [
    "from scipy.stats import ttest_ind\n",
    "\n",
    "# To Ensure 'Year' and 'Ride_Demand' columns are numeric\n",
    "data['Year'] = pd.to_numeric(data['Year'], errors='coerce')\n",
    "data['Ride Demand'] = pd.to_numeric(data['Ride Demand'], errors='coerce')\n",
    "\n",
    "# Group by year and calculate average demand\n",
    "yearly_demand = data.groupby('Year')['Ride Demand'].mean()\n",
    "print(\"Average ride demand per year:\")\n",
    "print(yearly_demand)\n",
    "\n",
    "# Plot ride demand distribution by year\n",
    "plt.figure(figsize=(10, 6))\n",
    "sns.boxplot(data=data, x='Year', y='Ride Demand')\n",
    "plt.title('Distribution of Ride Demand by Year')\n",
    "plt.xlabel('Year')\n",
    "plt.ylabel('Ride Demand')\n",
    "plt.show()\n",
    "\n",
    "# Statistical significance test (t-test) between years\n",
    "year_2023_demand = data[data['Year'] == 2022]['Ride Demand']\n",
    "year_2023_demand = data[data['Year'] == 2023]['Ride Demand']\n",
    "year_2024_demand = data[data['Year'] == 2024]['Ride Demand']\n",
    "\n",
    "t_stat, p_value = ttest_ind(year_2023_demand.dropna(), year_2024_demand.dropna())\n",
    "print(f\"T-statistic: {t_stat}, P-value: {p_value}\")\n",
    "\n",
    "# Interpretation\n",
    "if p_value < 0.05:\n",
    "    print(\"There is a significant difference in ride demand between the years.\")\n",
    "else:\n",
    "    print(\"There is no significant difference in ride demand between the years.\")\n"
   ]
  },
  {
   "cell_type": "code",
   "execution_count": 27,
   "id": "85c661a2-fea0-4a35-be2d-7be3a83ba28a",
   "metadata": {
    "id": "85c661a2-fea0-4a35-be2d-7be3a83ba28a"
   },
   "outputs": [],
   "source": [
    "# # Adding a trend column\n",
    "# data['trend'] = data['Year'] - 2022  # Create trend column\n",
    "# data1.drop('Year', axis=1, inplace=True)  # Drop the year column\n",
    "\n",
    "# # Re-evaluate correlation\n",
    "# correlation = data1['trend'].corr(data1['Ride_Demand'])\n",
    "# print(f\"Correlation between Trend and Ride Demand: {correlation}\")\n"
   ]
  },
  {
   "cell_type": "code",
   "execution_count": 28,
   "id": "d43efc1b-ef18-4d20-b33c-0757ec61dc01",
   "metadata": {
    "colab": {
     "base_uri": "https://localhost:8080/",
     "height": 423
    },
    "id": "d43efc1b-ef18-4d20-b33c-0757ec61dc01",
    "outputId": "4e40b8ac-f4ac-49cd-c9ae-40b8783b53d0"
   },
   "outputs": [
    {
     "data": {
      "text/html": [
       "<div>\n",
       "<style scoped>\n",
       "    .dataframe tbody tr th:only-of-type {\n",
       "        vertical-align: middle;\n",
       "    }\n",
       "\n",
       "    .dataframe tbody tr th {\n",
       "        vertical-align: top;\n",
       "    }\n",
       "\n",
       "    .dataframe thead th {\n",
       "        text-align: right;\n",
       "    }\n",
       "</style>\n",
       "<table border=\"1\" class=\"dataframe\">\n",
       "  <thead>\n",
       "    <tr style=\"text-align: right;\">\n",
       "      <th></th>\n",
       "      <th>Year</th>\n",
       "      <th>Month</th>\n",
       "      <th>Date</th>\n",
       "      <th>Hour</th>\n",
       "      <th>Place</th>\n",
       "      <th>Temperature</th>\n",
       "      <th>Day Status</th>\n",
       "      <th>Ride Demand</th>\n",
       "      <th>Z-Score</th>\n",
       "    </tr>\n",
       "  </thead>\n",
       "  <tbody>\n",
       "    <tr>\n",
       "      <th>0</th>\n",
       "      <td>2023</td>\n",
       "      <td>3</td>\n",
       "      <td>21</td>\n",
       "      <td>19</td>\n",
       "      <td>26.0</td>\n",
       "      <td>26.0</td>\n",
       "      <td>1.0</td>\n",
       "      <td>79.0</td>\n",
       "      <td>0.492387</td>\n",
       "    </tr>\n",
       "    <tr>\n",
       "      <th>1</th>\n",
       "      <td>2024</td>\n",
       "      <td>3</td>\n",
       "      <td>1</td>\n",
       "      <td>6</td>\n",
       "      <td>10.0</td>\n",
       "      <td>11.0</td>\n",
       "      <td>1.0</td>\n",
       "      <td>21.0</td>\n",
       "      <td>-2.001199</td>\n",
       "    </tr>\n",
       "    <tr>\n",
       "      <th>2</th>\n",
       "      <td>2024</td>\n",
       "      <td>3</td>\n",
       "      <td>1</td>\n",
       "      <td>5</td>\n",
       "      <td>6.0</td>\n",
       "      <td>24.0</td>\n",
       "      <td>1.0</td>\n",
       "      <td>20.0</td>\n",
       "      <td>0.159909</td>\n",
       "    </tr>\n",
       "    <tr>\n",
       "      <th>3</th>\n",
       "      <td>2024</td>\n",
       "      <td>10</td>\n",
       "      <td>14</td>\n",
       "      <td>22</td>\n",
       "      <td>20.0</td>\n",
       "      <td>22.0</td>\n",
       "      <td>1.0</td>\n",
       "      <td>75.0</td>\n",
       "      <td>-0.172569</td>\n",
       "    </tr>\n",
       "    <tr>\n",
       "      <th>4</th>\n",
       "      <td>2024</td>\n",
       "      <td>1</td>\n",
       "      <td>14</td>\n",
       "      <td>21</td>\n",
       "      <td>8.0</td>\n",
       "      <td>22.0</td>\n",
       "      <td>0.0</td>\n",
       "      <td>137.0</td>\n",
       "      <td>-0.172569</td>\n",
       "    </tr>\n",
       "    <tr>\n",
       "      <th>...</th>\n",
       "      <td>...</td>\n",
       "      <td>...</td>\n",
       "      <td>...</td>\n",
       "      <td>...</td>\n",
       "      <td>...</td>\n",
       "      <td>...</td>\n",
       "      <td>...</td>\n",
       "      <td>...</td>\n",
       "      <td>...</td>\n",
       "    </tr>\n",
       "    <tr>\n",
       "      <th>49995</th>\n",
       "      <td>2023</td>\n",
       "      <td>8</td>\n",
       "      <td>27</td>\n",
       "      <td>13</td>\n",
       "      <td>6.0</td>\n",
       "      <td>28.0</td>\n",
       "      <td>0.0</td>\n",
       "      <td>82.0</td>\n",
       "      <td>0.824865</td>\n",
       "    </tr>\n",
       "    <tr>\n",
       "      <th>49996</th>\n",
       "      <td>2023</td>\n",
       "      <td>8</td>\n",
       "      <td>14</td>\n",
       "      <td>4</td>\n",
       "      <td>17.0</td>\n",
       "      <td>20.0</td>\n",
       "      <td>1.0</td>\n",
       "      <td>24.0</td>\n",
       "      <td>-0.505048</td>\n",
       "    </tr>\n",
       "    <tr>\n",
       "      <th>49997</th>\n",
       "      <td>2022</td>\n",
       "      <td>6</td>\n",
       "      <td>23</td>\n",
       "      <td>19</td>\n",
       "      <td>2.0</td>\n",
       "      <td>19.0</td>\n",
       "      <td>1.0</td>\n",
       "      <td>75.0</td>\n",
       "      <td>-0.671287</td>\n",
       "    </tr>\n",
       "    <tr>\n",
       "      <th>49998</th>\n",
       "      <td>2022</td>\n",
       "      <td>12</td>\n",
       "      <td>6</td>\n",
       "      <td>4</td>\n",
       "      <td>19.0</td>\n",
       "      <td>25.0</td>\n",
       "      <td>1.0</td>\n",
       "      <td>20.0</td>\n",
       "      <td>0.326148</td>\n",
       "    </tr>\n",
       "    <tr>\n",
       "      <th>49999</th>\n",
       "      <td>2024</td>\n",
       "      <td>3</td>\n",
       "      <td>27</td>\n",
       "      <td>7</td>\n",
       "      <td>20.0</td>\n",
       "      <td>24.0</td>\n",
       "      <td>1.0</td>\n",
       "      <td>102.0</td>\n",
       "      <td>0.159909</td>\n",
       "    </tr>\n",
       "  </tbody>\n",
       "</table>\n",
       "<p>50000 rows × 9 columns</p>\n",
       "</div>"
      ],
      "text/plain": [
       "       Year  Month  Date  Hour  Place  Temperature  Day Status  Ride Demand  \\\n",
       "0      2023      3    21    19   26.0         26.0         1.0         79.0   \n",
       "1      2024      3     1     6   10.0         11.0         1.0         21.0   \n",
       "2      2024      3     1     5    6.0         24.0         1.0         20.0   \n",
       "3      2024     10    14    22   20.0         22.0         1.0         75.0   \n",
       "4      2024      1    14    21    8.0         22.0         0.0        137.0   \n",
       "...     ...    ...   ...   ...    ...          ...         ...          ...   \n",
       "49995  2023      8    27    13    6.0         28.0         0.0         82.0   \n",
       "49996  2023      8    14     4   17.0         20.0         1.0         24.0   \n",
       "49997  2022      6    23    19    2.0         19.0         1.0         75.0   \n",
       "49998  2022     12     6     4   19.0         25.0         1.0         20.0   \n",
       "49999  2024      3    27     7   20.0         24.0         1.0        102.0   \n",
       "\n",
       "        Z-Score  \n",
       "0      0.492387  \n",
       "1     -2.001199  \n",
       "2      0.159909  \n",
       "3     -0.172569  \n",
       "4     -0.172569  \n",
       "...         ...  \n",
       "49995  0.824865  \n",
       "49996 -0.505048  \n",
       "49997 -0.671287  \n",
       "49998  0.326148  \n",
       "49999  0.159909  \n",
       "\n",
       "[50000 rows x 9 columns]"
      ]
     },
     "execution_count": 28,
     "metadata": {},
     "output_type": "execute_result"
    }
   ],
   "source": [
    "data"
   ]
  },
  {
   "cell_type": "code",
   "execution_count": 29,
   "id": "7f183cb3-deac-44b8-9b97-4084740ae191",
   "metadata": {
    "colab": {
     "base_uri": "https://localhost:8080/",
     "height": 402
    },
    "id": "7f183cb3-deac-44b8-9b97-4084740ae191",
    "outputId": "8e1afa35-69cc-4e06-bcc2-c36abe23e7a1"
   },
   "outputs": [
    {
     "data": {
      "image/png": "[encoded data removed]",
      "text/plain": [
       "<Figure size 1200x600 with 3 Axes>"
      ]
     },
     "metadata": {},
     "output_type": "display_data"
    }
   ],
   "source": [
    "# EXPLORATORY DATA ANALYSIS (EDA)\n",
    "\n",
    "# Plot histograms for numerical columns\n",
    "plt.figure(figsize=(12, 6))\n",
    "\n",
    "plt.subplot(1, 3, 1)\n",
    "sns.histplot(data['Temperature'], kde=True, color='blue')\n",
    "plt.title('Temperature Distribution')\n",
    "\n",
    "plt.subplot(1, 3, 2)\n",
    "sns.histplot(data['Ride Demand'], kde=True, color='green')\n",
    "plt.title('Ride Demand Distribution')\n",
    "\n",
    "plt.subplot(1, 3, 3)\n",
    "sns.histplot(data['Year'], kde=True, color='red')\n",
    "plt.title('Trend Distribution')\n",
    "\n",
    "plt.tight_layout()\n",
    "plt.show()\n"
   ]
  },
  {
   "cell_type": "code",
   "execution_count": 30,
   "id": "16cdd7c5-d13d-4adb-9d2a-05d76c1e9614",
   "metadata": {
    "colab": {
     "base_uri": "https://localhost:8080/",
     "height": 449
    },
    "id": "16cdd7c5-d13d-4adb-9d2a-05d76c1e9614",
    "outputId": "a47d9d56-6f0e-4f70-e790-9c44b6f7e0c7"
   },
   "outputs": [
    {
     "data": {
      "text/plain": [
       "Text(0.5, 1.0, 'Hour Distribution')"
      ]
     },
     "execution_count": 30,
     "metadata": {},
     "output_type": "execute_result"
    },
    {
     "data": {
      "image/png": "[encoded data removed]",
      "text/plain": [
       "<Figure size 1200x600 with 3 Axes>"
      ]
     },
     "metadata": {},
     "output_type": "display_data"
    }
   ],
   "source": [
    "plt.figure(figsize=(12, 6))\n",
    "\n",
    "plt.subplot(1, 3, 1)\n",
    "sns.histplot(data['Day Status'], kde=True, color='yellow')\n",
    "plt.title('Day Status Distribution')\n",
    "\n",
    "plt.subplot(1, 3, 2)\n",
    "sns.histplot(data['Place'], kde=True, color='blue')\n",
    "plt.title('Place Distribution')\n",
    "\n",
    "plt.subplot(1, 3, 3)\n",
    "sns.histplot(data['Hour'], kde=True, color='red')\n",
    "plt.title('Hour Distribution')"
   ]
  },
  {
   "cell_type": "code",
   "execution_count": 31,
   "id": "e0700aa6-1248-4e59-bac9-3be45d58d119",
   "metadata": {
    "colab": {
     "base_uri": "https://localhost:8080/",
     "height": 479
    },
    "id": "e0700aa6-1248-4e59-bac9-3be45d58d119",
    "outputId": "d63e1f9d-35de-4028-e9cf-3385add147ea"
   },
   "outputs": [
    {
     "data": {
      "image/png": "[encoded data removed]",
      "text/plain": [
       "<Figure size 1000x600 with 2 Axes>"
      ]
     },
     "metadata": {},
     "output_type": "display_data"
    }
   ],
   "source": [
    "# EXPLORATORY DATA ANALYSIS (EDA)\n",
    "\n",
    "# Outlier Detection (Visualizing using Boxplot for numerical columns)\n",
    "numerical_columns1 = ['Temperature', 'Ride Demand']\n",
    "plt.figure(figsize=(10, 6))\n",
    "for i, col in enumerate(numerical_columns1):\n",
    "    plt.subplot(1, len(numerical_columns1), i+1)\n",
    "    sns.boxplot(data[col])\n",
    "    plt.title(f'Boxplot of {col}')\n",
    "plt.tight_layout()\n",
    "plt.show()"
   ]
  },
  {
   "cell_type": "code",
   "execution_count": 32,
   "id": "859b3d9a-c7bf-4072-814d-f7e9766f29cc",
   "metadata": {
    "colab": {
     "base_uri": "https://localhost:8080/",
     "height": 553
    },
    "id": "859b3d9a-c7bf-4072-814d-f7e9766f29cc",
    "outputId": "3774b6e9-6b36-4aab-8b86-6ad8658a75a8"
   },
   "outputs": [
    {
     "data": {
      "image/png": "[encoded data removed]",
      "text/plain": [
       "<Figure size 1000x600 with 1 Axes>"
      ]
     },
     "metadata": {},
     "output_type": "display_data"
    }
   ],
   "source": [
    "# Ride Demand vs Temperature\n",
    "plt.figure(figsize=(10, 6))\n",
    "sns.scatterplot(x=data['Temperature'], y=data['Ride Demand'], palette='coolwarm')\n",
    "plt.title('Ride Demand vs Temperature')\n",
    "plt.xlabel('Temperature (°C)')\n",
    "plt.ylabel('Ride Demand')\n",
    "plt.legend(title=\"Temperature Category\")\n",
    "plt.show()\n"
   ]
  },
  {
   "cell_type": "code",
   "execution_count": 33,
   "id": "8c228032-7767-4bad-a1e8-887d65583880",
   "metadata": {
    "colab": {
     "base_uri": "https://localhost:8080/",
     "height": 516
    },
    "id": "8c228032-7767-4bad-a1e8-887d65583880",
    "outputId": "95407895-427d-4410-ac48-e44f167d0581"
   },
   "outputs": [
    {
     "data": {
      "image/png": "[encoded data removed]",
      "text/plain": [
       "<Figure size 1000x600 with 1 Axes>"
      ]
     },
     "metadata": {},
     "output_type": "display_data"
    }
   ],
   "source": [
    "# Ride Demand by Hour of the Day\n",
    "plt.figure(figsize=(10, 6))\n",
    "sns.boxplot(x='Hour', y='Ride Demand', data=data, palette='viridis')\n",
    "plt.title('Ride Demand by Hour of the Day')\n",
    "plt.xlabel('Hour of the Day')\n",
    "plt.ylabel('Ride Demand')\n",
    "plt.show()"
   ]
  },
  {
   "cell_type": "code",
   "execution_count": 34,
   "id": "f588051b-4b04-4ab7-9429-e8ae2f15f0e2",
   "metadata": {
    "colab": {
     "base_uri": "https://localhost:8080/",
     "height": 452
    },
    "id": "f588051b-4b04-4ab7-9429-e8ae2f15f0e2",
    "outputId": "9c3576f7-61a8-409a-a4c7-a8021dc9c11b"
   },
   "outputs": [
    {
     "data": {
      "text/plain": [
       "<Axes: >"
      ]
     },
     "execution_count": 34,
     "metadata": {},
     "output_type": "execute_result"
    },
    {
     "data": {
      "image/png": "[encoded data removed]",
      "text/plain": [
       "<Figure size 640x480 with 2 Axes>"
      ]
     },
     "metadata": {},
     "output_type": "display_data"
    }
   ],
   "source": [
    "correlation_matrix = data[['Ride Demand', 'Hour']].corr()  # Correlation matrix for numerical columns\n",
    "sns.heatmap(correlation_matrix, annot=True, cmap='coolwarm', fmt='.2f', linewidths=1)"
   ]
  },
  {
   "cell_type": "code",
   "execution_count": 35,
   "id": "70a3a4fa-e225-4536-8238-4591c8f43356",
   "metadata": {
    "colab": {
     "base_uri": "https://localhost:8080/",
     "height": 452
    },
    "id": "70a3a4fa-e225-4536-8238-4591c8f43356",
    "outputId": "d752451b-4941-4f06-fb79-1c264a9fd467"
   },
   "outputs": [
    {
     "data": {
      "text/plain": [
       "<Axes: >"
      ]
     },
     "execution_count": 35,
     "metadata": {},
     "output_type": "execute_result"
    },
    {
     "data": {
      "image/png": "[encoded data removed]",
      "text/plain": [
       "<Figure size 640x480 with 2 Axes>"
      ]
     },
     "metadata": {},
     "output_type": "display_data"
    }
   ],
   "source": [
    "correlation_matrix = data[['Ride Demand', 'Temperature']].corr()  # Correlation matrix for numerical columns\n",
    "sns.heatmap(correlation_matrix, annot=True, cmap='coolwarm', fmt='.2f', linewidths=1)\n",
    "\n"
   ]
  },
  {
   "cell_type": "code",
   "execution_count": 36,
   "id": "c249c371-8f91-4a1d-a492-c78f2c798a7b",
   "metadata": {
    "colab": {
     "base_uri": "https://localhost:8080/",
     "height": 452
    },
    "id": "c249c371-8f91-4a1d-a492-c78f2c798a7b",
    "outputId": "2b18d61a-6519-4759-e415-148378a4a16e"
   },
   "outputs": [
    {
     "data": {
      "text/plain": [
       "<Axes: >"
      ]
     },
     "execution_count": 36,
     "metadata": {},
     "output_type": "execute_result"
    },
    {
     "data": {
      "image/png": "[encoded data removed]",
      "text/plain": [
       "<Figure size 640x480 with 2 Axes>"
      ]
     },
     "metadata": {},
     "output_type": "display_data"
    }
   ],
   "source": [
    "correlation_matrix = data[['Ride Demand', 'Place']].corr()  # Correlation matrix for numerical columns\n",
    "sns.heatmap(correlation_matrix, annot=True, cmap='coolwarm', fmt='.2f', linewidths=1)\n",
    "\n"
   ]
  },
  {
   "cell_type": "code",
   "execution_count": 37,
   "id": "11115dfe-a71a-4369-bc2b-c57caa000520",
   "metadata": {
    "colab": {
     "base_uri": "https://localhost:8080/",
     "height": 452
    },
    "id": "11115dfe-a71a-4369-bc2b-c57caa000520",
    "outputId": "45ebaac2-c482-4907-e0dc-e8721ab1e994"
   },
   "outputs": [
    {
     "data": {
      "text/plain": [
       "<Axes: >"
      ]
     },
     "execution_count": 37,
     "metadata": {},
     "output_type": "execute_result"
    },
    {
     "data": {
      "image/png": "[encoded data removed]",
      "text/plain": [
       "<Figure size 640x480 with 2 Axes>"
      ]
     },
     "metadata": {},
     "output_type": "display_data"
    }
   ],
   "source": [
    "correlation_matrix = data[['Ride Demand', 'Day Status']].corr()  # Correlation matrix for numerical columns\n",
    "sns.heatmap(correlation_matrix, annot=True, cmap='coolwarm', fmt='.2f', linewidths=1)\n",
    "\n"
   ]
  },
  {
   "cell_type": "code",
   "execution_count": 38,
   "id": "3813933a-15c4-4739-9405-c03bc39dd400",
   "metadata": {
    "colab": {
     "base_uri": "https://localhost:8080/"
    },
    "id": "3813933a-15c4-4739-9405-c03bc39dd400",
    "outputId": "850bcd4c-121b-445c-9734-9e2e58c6d914"
   },
   "outputs": [
    {
     "name": "stdout",
     "output_type": "stream",
     "text": [
      "Requirement already satisfied: xgboost in c:\\users\\likith reddy\\appdata\\local\\programs\\python\\python313\\lib\\site-packages (2.1.3)\n",
      "Requirement already satisfied: numpy in c:\\users\\likith reddy\\appdata\\local\\programs\\python\\python313\\lib\\site-packages (from xgboost) (2.1.3)\n",
      "Requirement already satisfied: scipy in c:\\users\\likith reddy\\appdata\\local\\programs\\python\\python313\\lib\\site-packages (from xgboost) (1.14.1)\n"
     ]
    }
   ],
   "source": [
    "!pip install xgboost\n"
   ]
  },
  {
   "cell_type": "code",
   "execution_count": 39,
   "id": "eV7qisEBZA1O",
   "metadata": {
    "colab": {
     "base_uri": "https://localhost:8080/"
    },
    "id": "eV7qisEBZA1O",
    "outputId": "b3d53f95-b7e2-4651-da38-a87000d9dc75"
   },
   "outputs": [
    {
     "name": "stdout",
     "output_type": "stream",
     "text": [
      "Training data shape: (42500, 8)\n",
      "Testing data shape: (7500, 8)\n"
     ]
    }
   ],
   "source": [
    "from sklearn.model_selection import train_test_split\n",
    "\n",
    "# Define the target variable and features\n",
    "X = data.drop(columns=['Ride Demand'])\n",
    "y = data['Ride Demand']\n",
    "\n",
    "# Split the data\n",
    "X_train, X_test, y_train, y_test = train_test_split(X, y, test_size=0.15, random_state=0)\n",
    "\n",
    "# Verify the split\n",
    "print(f\"Training data shape: {X_train.shape}\")\n",
    "print(f\"Testing data shape: {X_test.shape}\")"
   ]
  },
  {
   "cell_type": "code",
   "execution_count": 40,
   "id": "48a84f10-8db3-4b5e-aae5-aa4b42890d11",
   "metadata": {
    "colab": {
     "base_uri": "https://localhost:8080/"
    },
    "id": "48a84f10-8db3-4b5e-aae5-aa4b42890d11",
    "outputId": "bc951181-d15e-4bf9-cf88-8b83030242ba"
   },
   "outputs": [
    {
     "name": "stdout",
     "output_type": "stream",
     "text": [
      "[LightGBM] [Warning] feature_fraction is set=0.9584278964591215, colsample_bytree=1.0 will be ignored. Current value: feature_fraction=0.9584278964591215\n",
      "[LightGBM] [Warning] lambda_l1 is set=0.0012075686267437236, reg_alpha=0.0 will be ignored. Current value: lambda_l1=0.0012075686267437236\n",
      "[LightGBM] [Warning] lambda_l2 is set=0.004632712739896852, reg_lambda=0.0 will be ignored. Current value: lambda_l2=0.004632712739896852\n",
      "[LightGBM] [Warning] bagging_fraction is set=0.7977702611966214, subsample=1.0 will be ignored. Current value: bagging_fraction=0.7977702611966214\n",
      "[LightGBM] [Warning] Found whitespace in feature_names, replace with underlines\n",
      "[LightGBM] [Warning] feature_fraction is set=0.9584278964591215, colsample_bytree=1.0 will be ignored. Current value: feature_fraction=0.9584278964591215\n",
      "[LightGBM] [Warning] lambda_l1 is set=0.0012075686267437236, reg_alpha=0.0 will be ignored. Current value: lambda_l1=0.0012075686267437236\n",
      "[LightGBM] [Warning] lambda_l2 is set=0.004632712739896852, reg_lambda=0.0 will be ignored. Current value: lambda_l2=0.004632712739896852\n",
      "[LightGBM] [Warning] bagging_fraction is set=0.7977702611966214, subsample=1.0 will be ignored. Current value: bagging_fraction=0.7977702611966214\n",
      "[LightGBM] [Info] Auto-choosing row-wise multi-threading, the overhead of testing was 0.020297 seconds.\n",
      "You can set `force_row_wise=true` to remove the overhead.\n",
      "And if memory is not enough, you can set `force_col_wise=true`.\n",
      "[LightGBM] [Info] Total Bins 185\n",
      "[LightGBM] [Info] Number of data points in the train set: 40000, number of used features: 8\n",
      "[LightGBM] [Info] Start training from score 70.578750\n",
      "[LightGBM] [Warning] feature_fraction is set=0.9584278964591215, colsample_bytree=1.0 will be ignored. Current value: feature_fraction=0.9584278964591215\n",
      "[LightGBM] [Warning] lambda_l1 is set=0.0012075686267437236, reg_alpha=0.0 will be ignored. Current value: lambda_l1=0.0012075686267437236\n",
      "[LightGBM] [Warning] lambda_l2 is set=0.004632712739896852, reg_lambda=0.0 will be ignored. Current value: lambda_l2=0.004632712739896852\n",
      "[LightGBM] [Warning] bagging_fraction is set=0.7977702611966214, subsample=1.0 will be ignored. Current value: bagging_fraction=0.7977702611966214\n",
      "LightGBM Regressor Performance Metrics:\n",
      "Mean Absolute Error (MAE): 6.7441\n",
      "Mean Squared Error (MSE): 89.5079\n",
      "R-squared (R²): 0.9345\n",
      "Adjusted R-squared (Adjusted R²): 0.9344\n",
      "----------------------------------------\n"
     ]
    }
   ],
   "source": [
    "# Import necessary libraries\n",
    "from sklearn.model_selection import train_test_split\n",
    "from sklearn.metrics import mean_absolute_error, mean_squared_error, r2_score\n",
    "from sklearn.tree import DecisionTreeRegressor\n",
    "from sklearn.svm import SVR\n",
    "from sklearn.ensemble import RandomForestRegressor\n",
    "import xgboost as xgb\n",
    "from sklearn.ensemble import AdaBoostRegressor\n",
    "import lightgbm as lgb\n",
    "from sklearn.model_selection import cross_val_score, cross_val_predict, KFold\n",
    "\n",
    "\n",
    "\n",
    "# Split data into training and test sets\n",
    "X_train, X_test, y_train, y_test = train_test_split(X, y, test_size=0.2, random_state=42)\n",
    "# boosting_type='gbdt',\n",
    "#     num_leaves=50,\n",
    "#     max_depth=6,\n",
    "#     learning_rate=0.01,\n",
    "#     n_estimators=1000,\n",
    "#     subsample=0.7,\n",
    "#     colsample_bytree=0.7,\n",
    "#     reg_alpha=1.0,\n",
    "#     reg_lambda=1.0,\n",
    "#     min_child_samples=30,\n",
    "#     min_split_gain=0.2,\n",
    "#     random_state=42\n",
    "\n",
    "# num_leaves= 130, n_estimators= 350, max_depth= 4, learning_rate= 0.05\n",
    "\n",
    "#learning_rate= 0.1, max_depth= 3, min_child_samples= 10, n_estimators= 200, num_leaves= 20\n",
    "\n",
    "# --- Lightgbm Regressor ---\n",
    "# Initialize the LightGBM Regressor\n",
    "#random_state=42, n_estimators=100, learning_rate=0.1, max_depth=-1\n",
    "lgb_model = lgb.LGBMRegressor(num_leaves= 13, max_depth=19, learning_rate= 0.026521071030766414, feature_fraction=0.9584278964591215, bagging_fraction=0.7977702611966214, lambda_l1= 0.0012075686267437236, lambda_l2= 0.004632712739896852, n_estimators= 586)\n",
    "\n",
    "# Train the model\n",
    "lgb_model.fit(X_train, y_train)\n",
    "\n",
    "\n",
    "kf = KFold(n_splits=5, shuffle=True, random_state=42)\n",
    "# Make predictions\n",
    "y_pred_lgb = lgb_model.predict(X_test)\n",
    "\n",
    "\n",
    "\n",
    "# Calculate performance metrics\n",
    "mae = mean_absolute_error(y_test, y_pred_lgb)\n",
    "mse = mean_squared_error(y_test, y_pred_lgb)\n",
    "r2 = r2_score(y_test, y_pred_lgb)\n",
    "\n",
    "# Adjusted R² Calculation\n",
    "n = X_test.shape[0]  # Number of samples\n",
    "p = X_test.shape[1]  # Number of features\n",
    "adjusted_r2 = 1 - (1 - r2) * (n - 1) / (n - p - 1)\n",
    "\n",
    "# Print metrics\n",
    "print(\"LightGBM Regressor Performance Metrics:\")\n",
    "print(f\"Mean Absolute Error (MAE): {mae:.4f}\")\n",
    "print(f\"Mean Squared Error (MSE): {mse:.4f}\")\n",
    "print(f\"R-squared (R²): {r2:.4f}\")\n",
    "print(f\"Adjusted R-squared (Adjusted R²): {adjusted_r2:.4f}\")\n",
    "print(\"-\" * 40)\n",
    "\n",
    "# n_estimators=50,objective='reg:squarederror', random_state=42,max_depth= 3\n",
    "# --- XGBoost Regressor ---\n",
    "# xgboost_model = xgb.XGBRegressor(n_estimators=50,objective='reg:squarederror', random_state=42,max_depth= 3)\n",
    "# xgboost_model.fit(X_train, y_train)\n",
    "# y_pred_xgb = xgboost_model.predict(X_test)\n",
    "# xgb_mae = mean_absolute_error(y_test, y_pred_xgb)\n",
    "# xgb_mse = mean_squared_error(y_test, y_pred_xgb)\n",
    "# xgb_r2 = r2_score(y_test, y_pred_xgb)\n",
    "\n",
    "# print(\"XGBoost Regressor Performance:\")\n",
    "# print(f\"  Mean Absolute Error (MAE): {xgb_mae:.4f}\")\n",
    "# print(f\"  Mean Squared Error (MSE): {xgb_mse:.4f}\")\n",
    "# print(f\"  R-squared (R2): {xgb_r2:.4f}\")\n",
    "# print(\"-\" * 40)\n",
    "\n",
    "# # --- Random Forest Regressor ---\n",
    "# random_forest_model = RandomForestRegressor(n_estimators=100, random_state=42)\n",
    "# random_forest_model.fit(X_train, y_train)\n",
    "# y_pred_rf = random_forest_model.predict(X_test)\n",
    "# rf_mae = mean_absolute_error(y_test, y_pred_rf)\n",
    "# rf_mse = mean_squared_error(y_test, y_pred_rf)\n",
    "# rf_r2 = r2_score(y_test, y_pred_rf)\n",
    "\n",
    "# print(\"Random Forest Regressor Performance:\")\n",
    "# print(f\"  Mean Absolute Error (MAE): {rf_mae:.4f}\")\n",
    "# print(f\"  Mean Squared Error (MSE): {rf_mse:.4f}\")\n",
    "# print(f\"  R-squared (R2): {rf_r2:.4f}\")\n",
    "# print(\"-\" * 40)\n",
    "# # --- Ada boost Regressor ---\n",
    "\n",
    "# # Initialize AdaBoost Regressor\n",
    "# ada_model = AdaBoostRegressor(random_state=42, n_estimators=100)\n",
    "\n",
    "# # Train the model\n",
    "# ada_model.fit(X_train, y_train)\n",
    "\n",
    "# # Make predictions\n",
    "# y_pred_ada = ada_model.predict(X_test)\n",
    "\n",
    "# # Calculate performance metrics\n",
    "# mae = mean_absolute_error(y_test, y_pred_ada)\n",
    "# mse = mean_squared_error(y_test, y_pred_ada)\n",
    "# r2 = r2_score(y_test, y_pred_ada)\n",
    "\n",
    "# # Calculate Adjusted R²\n",
    "# n = len(X_test)  # Total number of test samples\n",
    "# k = X_test.shape[1]  # Total number of features\n",
    "# adjusted_r2 = 1 - ((1 - r2) * (n - 1) / (n - k - 1))\n",
    "\n",
    "# # Display metrics\n",
    "# print(\"AdaBoost Regressor Performance Metrics:\")\n",
    "# print(f\"  Mean Absolute Error (MAE): {mae:.4f}\")\n",
    "# print(f\"  Mean Squared Error (MSE): {mse:.4f}\")\n",
    "# print(f\"  R-squared (R²): {r2:.4f}\")\n",
    "# print(f\"  Adjusted R-squared: {adjusted_r2:.4f}\")\n",
    "# print(\"-\" * 40)\n",
    "\n",
    "# # --- Decision Tree Regressor ---\n",
    "# decision_tree_model = DecisionTreeRegressor(random_state=42)\n",
    "# decision_tree_model.fit(X_train, y_train)\n",
    "# y_pred_dt = decision_tree_model.predict(X_test)\n",
    "# dt_mae = mean_absolute_error(y_test, y_pred_dt)\n",
    "# dt_mse = mean_squared_error(y_test, y_pred_dt)\n",
    "# dt_r2 = r2_score(y_test, y_pred_dt)\n",
    "\n",
    "# print(\"Decision Tree Regressor Performance:\")\n",
    "# print(f\"  Mean Absolute Error (MAE): {dt_mae:.4f}\")\n",
    "# print(f\"  Mean Squared Error (MSE): {dt_mse:.4f}\")\n",
    "# print(f\"  R-squared (R2): {dt_r2:.4f}\")\n",
    "# print(\"-\" * 40)\n",
    "\n",
    "# # --- Support Vector Regressor (SVR) ---\n",
    "# svr_model = SVR(kernel='rbf')\n",
    "# svr_model.fit(X_train, y_train)\n",
    "# y_pred_svr = svr_model.predict(X_test)\n",
    "# svr_mae = mean_absolute_error(y_test, y_pred_svr)\n",
    "# svr_mse = mean_squared_error(y_test, y_pred_svr)\n",
    "# svr_r2 = r2_score(y_test, y_pred_svr)\n",
    "\n",
    "# print(\"Support Vector Regressor (SVR) Performance:\")\n",
    "# print(f\"  Mean Absolute Error (MAE): {svr_mae:.4f}\")\n",
    "# print(f\"  Mean Squared Error (MSE): {svr_mse:.4f}\")\n",
    "# print(f\"  R-squared (R2): {svr_r2:.4f}\")\n",
    "# print(\"-\" * 40)\n",
    "\n",
    "\n"
   ]
  },
  {
   "cell_type": "code",
   "execution_count": 41,
   "id": "kz9BC7-cijxR",
   "metadata": {
    "id": "kz9BC7-cijxR"
   },
   "outputs": [],
   "source": [
    "# from sklearn.model_selection import GridSearchCV\n",
    "# from lightgbm import LGBMRegressor\n",
    "\n",
    "\n",
    "# # Initialize LightGBM Regressor\n",
    "# lgbm = LGBMRegressor(random_state=42)\n",
    "\n",
    "# # Define the parameter grid\n",
    "# param_grid = {\n",
    "#     'n_estimators': [50, 100, 200],\n",
    "#     'learning_rate': [0.01, 0.1, 0.2],\n",
    "#     'max_depth': [3, 5, 7],\n",
    "#     'num_leaves': [20, 31, 50],\n",
    "#     'min_child_samples': [10, 20, 30]\n",
    "# }\n",
    "\n",
    "# # Perform Grid Search\n",
    "# grid_search = GridSearchCV(\n",
    "#     estimator=lgbm,\n",
    "#     param_grid=param_grid,\n",
    "#     scoring='r2',  # Metric to optimize\n",
    "#     cv=3,          # 3-fold cross-validation\n",
    "#     verbose=1,\n",
    "#     n_jobs=-1      # Use all available CPUs\n",
    "# )\n",
    "\n",
    "# grid_search.fit(X_train, y_train)\n",
    "\n",
    "# # Print the best parameters and score\n",
    "# print(\"Best Parameters:\", grid_search.best_params_)\n",
    "# print(\"Best R2 Score:\", grid_search.best_score_)\n",
    "\n",
    "# # Evaluate the best model on test data\n",
    "# best_model = grid_search.best_estimator_\n",
    "# y_pred = best_model.predict(X_test)\n",
    "\n",
    "# from sklearn.metrics import mean_absolute_error, mean_squared_error, r2_score\n",
    "# mae = mean_absolute_error(y_test, y_pred)\n",
    "# mse = mean_squared_error(y_test, y_pred)\n",
    "# r2 = r2_score(y_test, y_pred)\n",
    "\n",
    "# print(f\"Test MAE: {mae:.4f}\")\n",
    "# print(f\"Test MSE: {mse:.4f}\")\n",
    "# print(f\"Test R2: {r2:.4f}\")\n"
   ]
  },
  {
   "cell_type": "code",
   "execution_count": 42,
   "id": "cu6dfElalXbB",
   "metadata": {
    "id": "cu6dfElalXbB"
   },
   "outputs": [],
   "source": [
    "# from sklearn.model_selection import RandomizedSearchCV\n",
    "# import lightgbm as lgb\n",
    "# import numpy as np\n",
    "\n",
    "# # Define the parameter distributions for LightGBM\n",
    "# param_dist = {\n",
    "#     'num_leaves': np.arange(20, 150, step=10),\n",
    "#     'max_depth': np.arange(-1, 30, step=5),\n",
    "#     'learning_rate': [0.01, 0.05, 0.1, 0.2],\n",
    "#     'n_estimators': np.arange(50, 500, step=50)\n",
    "# }\n",
    "\n",
    "# # Initialize the model\n",
    "# lgb_model = lgb.LGBMRegressor()\n",
    "\n",
    "# # Set up RandomizedSearchCV\n",
    "# random_search = RandomizedSearchCV(\n",
    "#     estimator=lgb_model,\n",
    "#     param_distributions=param_dist,\n",
    "#     n_iter=50,  # Number of random combinations to try\n",
    "#     scoring='neg_mean_squared_error',\n",
    "#     cv=5,\n",
    "#     verbose=1,\n",
    "#     n_jobs=-1,\n",
    "#     random_state=42\n",
    "# )\n",
    "\n",
    "# # Fit the model\n",
    "# random_search.fit(X_train, y_train)\n",
    "\n",
    "# # Get the best parameters\n",
    "# print(\"Best parameters found by RandomizedSearchCV:\", random_search.best_params_)\n"
   ]
  },
  {
   "cell_type": "code",
   "execution_count": 43,
   "id": "mH4rRpr6pmtf",
   "metadata": {
    "colab": {
     "base_uri": "https://localhost:8080/"
    },
    "id": "mH4rRpr6pmtf",
    "outputId": "aaa95a5a-1463-43fa-ac7d-a22d9c0f7607"
   },
   "outputs": [],
   "source": [
    "# !pip install optuna --upgrade"
   ]
  },
  {
   "cell_type": "code",
   "execution_count": 44,
   "id": "od1oB23upAGe",
   "metadata": {
    "colab": {
     "base_uri": "https://localhost:8080/",
     "height": 1000
    },
    "id": "od1oB23upAGe",
    "outputId": "f75e8b73-df39-47dd-aca4-c98425aa9876"
   },
   "outputs": [],
   "source": [
    "# import optuna\n",
    "# import lightgbm as lgb\n",
    "# from sklearn.metrics import mean_squared_error\n",
    "# import optuna.visualization as viz\n",
    "\n",
    "# def objective(trial):\n",
    "#     # Define the parameter search space\n",
    "#     params = {\n",
    "#         'objective': 'regression',\n",
    "#         'metric': 'rmse',\n",
    "#         'boosting_type': 'gbdt',\n",
    "#         'num_leaves': trial.suggest_int('num_leaves', 10, 200),\n",
    "#         'max_depth': trial.suggest_int('max_depth', -1, 50),\n",
    "#         'learning_rate': trial.suggest_loguniform('learning_rate', 1e-4, 0.3),\n",
    "#         'feature_fraction': trial.suggest_uniform('feature_fraction', 0.6, 1.0),\n",
    "#         'bagging_fraction': trial.suggest_uniform('bagging_fraction', 0.6, 1.0),\n",
    "#         'lambda_l1': trial.suggest_loguniform('lambda_l1', 1e-8, 10.0),\n",
    "#         'lambda_l2': trial.suggest_loguniform('lambda_l2', 1e-8, 10.0),\n",
    "#         'n_estimators': trial.suggest_int('n_estimators', 50, 1000),\n",
    "#     }\n",
    "\n",
    "#     # Create and train the model\n",
    "#     lgb_model = lgb.LGBMRegressor(**params)\n",
    "#     lgb_model.fit(X_train, y_train)\n",
    "\n",
    "#     # Make predictions\n",
    "#     y_pred = lgb_model.predict(X_test)\n",
    "\n",
    "#     # Calculate RMSE as the optimization objective\n",
    "#     rmse = mean_squared_error(y_test, y_pred, squared=False)\n",
    "#     return rmse\n",
    "\n",
    "# # Run the optimization\n",
    "# study = optuna.create_study(direction='minimize') #study is defined here\n",
    "# study.optimize(objective, n_trials=200)\n",
    "\n",
    "# # Correctly access the best parameters and best score\n",
    "# print(\"Best parameters found by Optuna:\", study.best_params)\n",
    "# print(\"Best RMSE achieved:\", study.best_value)\n",
    "\n",
    "# # Moved visualization after study definition and optimization\n",
    "# viz.plot_parallel_coordinate(study) # Now study is defined before this line\n",
    "# viz.plot_param_importances(study) # and this line"
   ]
  },
  {
   "cell_type": "code",
   "execution_count": 45,
   "id": "pvnP1ZC9HwGz",
   "metadata": {
    "id": "pvnP1ZC9HwGz"
   },
   "outputs": [],
   "source": [
    "# import pandas as pd\n",
    "# from sklearn.model_selection import train_test_split\n",
    "# from sklearn.metrics import mean_absolute_error, mean_squared_error, r2_score\n",
    "# from sklearn.tree import DecisionTreeRegressor\n",
    "# from sklearn.ensemble import RandomForestRegressor\n",
    "# from sklearn.svm import SVR\n",
    "# import xgboost as xgb\n",
    "# import lightgbm as lgb\n",
    "\n",
    "\n",
    "# # Split data into training and test sets (80% train, 20% test)\n",
    "# X_train, X_test, y_train, y_test = train_test_split(X, y, test_size=0.2, random_state=42)\n",
    "\n",
    "# # Initialize the models\n",
    "# models = {\n",
    "#     'Lightgbm Regressor': lgb.LGBMRegressor(random_state=42, n_estimators=100, learning_rate=0.1, max_depth=-1),\n",
    "#     'XGBoost Regressor': xgb.XGBRegressor(objective='reg:squarederror', random_state=42),\n",
    "#     'Random Forest Regressor': RandomForestRegressor(random_state=42),\n",
    "#     'Adaboost Regressor': AdaBoostRegressor(random_state=42),\n",
    "#     'Decision Tree Regressor': DecisionTreeRegressor(random_state=42),\n",
    "#     'Support Vector Regressor (SVR)': SVR(kernel='rbf')\n",
    "\n",
    "# }\n",
    "\n",
    "# # Collect performance metrics for each model\n",
    "# results = []\n",
    "\n",
    "# # Total samples and number of predictors for Adjusted R²\n",
    "# n = len(X_test)  # Total number of test samples\n",
    "# k = X_test.shape[1]  # Total number of features\n",
    "\n",
    "# for model_name, model in models.items():\n",
    "#     # Train the model\n",
    "#     model.fit(X_train, y_train)\n",
    "\n",
    "#     # Make predictions\n",
    "#     y_pred = model.predict(X_test)\n",
    "\n",
    "#     # Calculate performance metrics\n",
    "#     mae = mean_absolute_error(y_test, y_pred)\n",
    "#     mse = mean_squared_error(y_test, y_pred)\n",
    "#     r2 = r2_score(y_test, y_pred)\n",
    "\n",
    "#     # Calculate Adjusted R²\n",
    "#     adjusted_r2 = 1 - ((1 - r2) * (n - 1) / (n - k - 1))\n",
    "\n",
    "#     # Append results for OLS table\n",
    "#     results.append({\n",
    "#         'Model': model_name,\n",
    "#         'MAE': mae,\n",
    "#         'MSE': mse,\n",
    "#         'R2': r2,\n",
    "#         'Adjusted R2': adjusted_r2\n",
    "#     })\n",
    "\n",
    "# # Create a DataFrame to display the results\n",
    "# ols_table = pd.DataFrame(results)\n",
    "\n",
    "# # Print the results\n",
    "# print(ols_table)\n"
   ]
  },
  {
   "cell_type": "code",
   "execution_count": 46,
   "id": "44Vy3Em5H7fm",
   "metadata": {
    "colab": {
     "base_uri": "https://localhost:8080/"
    },
    "id": "44Vy3Em5H7fm",
    "outputId": "4c2df0b4-940c-4e8b-b559-901df8395ab5"
   },
   "outputs": [],
   "source": [
    "# !pip install lightgbm\n"
   ]
  },
  {
   "cell_type": "code",
   "execution_count": 47,
   "id": "hSq_GEMiMJFa",
   "metadata": {
    "id": "hSq_GEMiMJFa"
   },
   "outputs": [],
   "source": [
    "# import lightgbm as lgb\n",
    "# from sklearn.model_selection import train_test_split\n",
    "# from sklearn.metrics import mean_absolute_error, mean_squared_error, r2_score\n",
    "# import numpy as np\n",
    "\n",
    "# # Features (X) and Target (y)\n",
    "# # Replace 'Ride Demand' with your actual target column\n",
    "# X = data.drop(columns=['Ride Demand'])\n",
    "# y = data['Ride Demand']\n",
    "\n",
    "# # Split data into training and testing sets\n",
    "# X_train, X_test, y_train, y_test = train_test_split(X, y, test_size=0.2, random_state=42)\n",
    "\n",
    "# # Initialize the LightGBM Regressor\n",
    "# lgb_model = lgb.LGBMRegressor(random_state=42, n_estimators=100, learning_rate=0.1, max_depth=-1)\n",
    "\n",
    "# # Train the model\n",
    "# lgb_model.fit(X_train, y_train)\n",
    "\n",
    "# # Make predictions\n",
    "# y_pred_lgb = lgb_model.predict(X_test)\n",
    "\n",
    "# # Calculate performance metrics\n",
    "# mae = mean_absolute_error(y_test, y_pred)\n",
    "# mse = mean_squared_error(y_test, y_pred)\n",
    "# r2 = r2_score(y_test, y_pred)\n",
    "\n",
    "# # Adjusted R² Calculation\n",
    "# n = X_test.shape[0]  # Number of samples\n",
    "# p = X_test.shape[1]  # Number of features\n",
    "# adjusted_r2 = 1 - (1 - r2) * (n - 1) / (n - p - 1)\n",
    "\n",
    "# # Print metrics\n",
    "# print(\"LightGBM Regressor Performance Metrics:\")\n",
    "# print(f\"Mean Absolute Error (MAE): {mae:.4f}\")\n",
    "# print(f\"Mean Squared Error (MSE): {mse:.4f}\")\n",
    "# print(f\"R-squared (R²): {r2:.4f}\")\n",
    "# print(f\"Adjusted R-squared (Adjusted R²): {adjusted_r2:.4f}\")\n"
   ]
  },
  {
   "cell_type": "code",
   "execution_count": 48,
   "id": "3b1a2fcf-c280-44e8-b33e-0b75a5e1767c",
   "metadata": {
    "colab": {
     "base_uri": "https://localhost:8080/"
    },
    "id": "3b1a2fcf-c280-44e8-b33e-0b75a5e1767c",
    "outputId": "e441a0e7-5d4f-4e3e-c4b6-51d00ca12050"
   },
   "outputs": [
    {
     "name": "stdout",
     "output_type": "stream",
     "text": [
      "Target Range: 20.0 to 171.0\n"
     ]
    }
   ],
   "source": [
    "print(f\"Target Range: {y_test.min()} to {y_test.max()}\")\n"
   ]
  },
  {
   "cell_type": "code",
   "execution_count": 49,
   "id": "bd444b40-6976-4b9c-9ed2-e988d6660bc4",
   "metadata": {
    "colab": {
     "base_uri": "https://localhost:8080/"
    },
    "id": "bd444b40-6976-4b9c-9ed2-e988d6660bc4",
    "outputId": "bd647b57-d7fb-40fe-ecef-73b8cb0d770f"
   },
   "outputs": [
    {
     "name": "stdout",
     "output_type": "stream",
     "text": [
      "Root Mean Squared Error (RMSE): 9.46\n"
     ]
    }
   ],
   "source": [
    "rmse = mse ** 0.5\n",
    "print(f\"Root Mean Squared Error (RMSE): {rmse:.2f}\")\n"
   ]
  },
  {
   "cell_type": "code",
   "execution_count": 50,
   "id": "c9c81481-6f73-4aed-97c6-a733ae5b4e96",
   "metadata": {
    "colab": {
     "base_uri": "https://localhost:8080/"
    },
    "id": "c9c81481-6f73-4aed-97c6-a733ae5b4e96",
    "outputId": "a1174fb0-e530-461b-fcd7-79b6d98921b3"
   },
   "outputs": [
    {
     "data": {
      "text/plain": [
       "array([ 22.39964678,  22.78684777,  78.99018042, ..., 139.41818722,\n",
       "       109.43053744,  88.22061594])"
      ]
     },
     "execution_count": 50,
     "metadata": {},
     "output_type": "execute_result"
    }
   ],
   "source": [
    "y_pred_lgb"
   ]
  },
  {
   "cell_type": "code",
   "execution_count": 51,
   "id": "7924e95c-5d65-401c-ac83-9587cc5737a8",
   "metadata": {
    "colab": {
     "base_uri": "https://localhost:8080/",
     "height": 458
    },
    "id": "7924e95c-5d65-401c-ac83-9587cc5737a8",
    "outputId": "2beeeb90-993a-4141-b793-b420f6a06cec"
   },
   "outputs": [
    {
     "data": {
      "text/plain": [
       "33553     22.0\n",
       "9427      20.0\n",
       "199       92.0\n",
       "12447     23.0\n",
       "39489     22.0\n",
       "         ...  \n",
       "28567     71.0\n",
       "25079     20.0\n",
       "18707    139.0\n",
       "15200    106.0\n",
       "5857      81.0\n",
       "Name: Ride Demand, Length: 10000, dtype: float64"
      ]
     },
     "execution_count": 51,
     "metadata": {},
     "output_type": "execute_result"
    }
   ],
   "source": [
    "y_test\n"
   ]
  },
  {
   "cell_type": "code",
   "execution_count": 52,
   "id": "sGf_R-LF3fBu",
   "metadata": {
    "colab": {
     "base_uri": "https://localhost:8080/"
    },
    "id": "sGf_R-LF3fBu",
    "outputId": "3abf358f-709b-4e7c-ae74-5e3a4453cc85"
   },
   "outputs": [
    {
     "name": "stdout",
     "output_type": "stream",
     "text": [
      "[LightGBM] [Warning] feature_fraction is set=0.9584278964591215, colsample_bytree=1.0 will be ignored. Current value: feature_fraction=0.9584278964591215\n",
      "[LightGBM] [Warning] lambda_l1 is set=0.0012075686267437236, reg_alpha=0.0 will be ignored. Current value: lambda_l1=0.0012075686267437236\n",
      "[LightGBM] [Warning] lambda_l2 is set=0.004632712739896852, reg_lambda=0.0 will be ignored. Current value: lambda_l2=0.004632712739896852\n",
      "[LightGBM] [Warning] bagging_fraction is set=0.7977702611966214, subsample=1.0 will be ignored. Current value: bagging_fraction=0.7977702611966214\n",
      "Predicted Ride Demand for the given input: 109.03337069001928\n"
     ]
    }
   ],
   "source": [
    "import pandas as pd\n",
    "import lightgbm as lgb\n",
    "\n",
    "# Example: Trained LightGBM model (replace with your actual model)\n",
    "# lgb_model = lgb.LGBMRegressor()\n",
    "# lgb_model.fit(X_train, y_train)\n",
    "\n",
    "# Single row input data (replace with actual values for the attributes)\n",
    "single_row_data = {\n",
    "    'Year': [2024],  # Example: year 2023\n",
    "    'Month': [1],   # Example: November\n",
    "    'Date': [14],    # Example: 29th day of the month\n",
    "    'Hour': [21],    # Example: 3 PM\n",
    "    'Place': [8],    # Example: 5th place (assuming it's a numerical encoding of places)\n",
    "    'Temperature': [22],  # Example: Temperature in Celsius\n",
    "    'Temperature Category': [2],  # Example: Category (possibly a coded value, e.g., 1: High, 2: Medium, 3: Low)\n",
    "    'Day Status': [0],  # Example: Day Status (coded: 1 = working day, 0 = weekend, etc.)\n",
    "}\n",
    "\n",
    "# Convert the dictionary into a DataFrame (same structure as training data)\n",
    "single_row_df = pd.DataFrame(single_row_data)\n",
    "\n",
    "# Ensure that the columns match the feature set used during model training (no 'Ride Demand')\n",
    "X_single_row = single_row_df  # No need to drop anything if 'Ride Demand' is not included in input data\n",
    "\n",
    "# Predict using the trained model\n",
    "y_pred_single_row = lgb_model.predict(X_single_row)\n",
    "\n",
    "# Output the prediction\n",
    "print(f\"Predicted Ride Demand for the given input: {y_pred_single_row[0]}\")\n"
   ]
  },
  {
   "cell_type": "code",
   "execution_count": 53,
   "id": "igu_BB6V7WTB",
   "metadata": {
    "colab": {
     "base_uri": "https://localhost:8080/",
     "height": 423
    },
    "id": "igu_BB6V7WTB",
    "outputId": "378f1c0e-98fc-49d5-9aa6-6eb9a4db8533"
   },
   "outputs": [
    {
     "data": {
      "text/html": [
       "<div>\n",
       "<style scoped>\n",
       "    .dataframe tbody tr th:only-of-type {\n",
       "        vertical-align: middle;\n",
       "    }\n",
       "\n",
       "    .dataframe tbody tr th {\n",
       "        vertical-align: top;\n",
       "    }\n",
       "\n",
       "    .dataframe thead th {\n",
       "        text-align: right;\n",
       "    }\n",
       "</style>\n",
       "<table border=\"1\" class=\"dataframe\">\n",
       "  <thead>\n",
       "    <tr style=\"text-align: right;\">\n",
       "      <th></th>\n",
       "      <th>Year</th>\n",
       "      <th>Month</th>\n",
       "      <th>Date</th>\n",
       "      <th>Hour</th>\n",
       "      <th>Place</th>\n",
       "      <th>Temperature</th>\n",
       "      <th>Day Status</th>\n",
       "      <th>Ride Demand</th>\n",
       "      <th>Z-Score</th>\n",
       "    </tr>\n",
       "  </thead>\n",
       "  <tbody>\n",
       "    <tr>\n",
       "      <th>0</th>\n",
       "      <td>2023</td>\n",
       "      <td>3</td>\n",
       "      <td>21</td>\n",
       "      <td>19</td>\n",
       "      <td>26.0</td>\n",
       "      <td>26.0</td>\n",
       "      <td>1.0</td>\n",
       "      <td>79.0</td>\n",
       "      <td>0.492387</td>\n",
       "    </tr>\n",
       "    <tr>\n",
       "      <th>1</th>\n",
       "      <td>2024</td>\n",
       "      <td>3</td>\n",
       "      <td>1</td>\n",
       "      <td>6</td>\n",
       "      <td>10.0</td>\n",
       "      <td>11.0</td>\n",
       "      <td>1.0</td>\n",
       "      <td>21.0</td>\n",
       "      <td>-2.001199</td>\n",
       "    </tr>\n",
       "    <tr>\n",
       "      <th>2</th>\n",
       "      <td>2024</td>\n",
       "      <td>3</td>\n",
       "      <td>1</td>\n",
       "      <td>5</td>\n",
       "      <td>6.0</td>\n",
       "      <td>24.0</td>\n",
       "      <td>1.0</td>\n",
       "      <td>20.0</td>\n",
       "      <td>0.159909</td>\n",
       "    </tr>\n",
       "    <tr>\n",
       "      <th>3</th>\n",
       "      <td>2024</td>\n",
       "      <td>10</td>\n",
       "      <td>14</td>\n",
       "      <td>22</td>\n",
       "      <td>20.0</td>\n",
       "      <td>22.0</td>\n",
       "      <td>1.0</td>\n",
       "      <td>75.0</td>\n",
       "      <td>-0.172569</td>\n",
       "    </tr>\n",
       "    <tr>\n",
       "      <th>4</th>\n",
       "      <td>2024</td>\n",
       "      <td>1</td>\n",
       "      <td>14</td>\n",
       "      <td>21</td>\n",
       "      <td>8.0</td>\n",
       "      <td>22.0</td>\n",
       "      <td>0.0</td>\n",
       "      <td>137.0</td>\n",
       "      <td>-0.172569</td>\n",
       "    </tr>\n",
       "    <tr>\n",
       "      <th>...</th>\n",
       "      <td>...</td>\n",
       "      <td>...</td>\n",
       "      <td>...</td>\n",
       "      <td>...</td>\n",
       "      <td>...</td>\n",
       "      <td>...</td>\n",
       "      <td>...</td>\n",
       "      <td>...</td>\n",
       "      <td>...</td>\n",
       "    </tr>\n",
       "    <tr>\n",
       "      <th>49995</th>\n",
       "      <td>2023</td>\n",
       "      <td>8</td>\n",
       "      <td>27</td>\n",
       "      <td>13</td>\n",
       "      <td>6.0</td>\n",
       "      <td>28.0</td>\n",
       "      <td>0.0</td>\n",
       "      <td>82.0</td>\n",
       "      <td>0.824865</td>\n",
       "    </tr>\n",
       "    <tr>\n",
       "      <th>49996</th>\n",
       "      <td>2023</td>\n",
       "      <td>8</td>\n",
       "      <td>14</td>\n",
       "      <td>4</td>\n",
       "      <td>17.0</td>\n",
       "      <td>20.0</td>\n",
       "      <td>1.0</td>\n",
       "      <td>24.0</td>\n",
       "      <td>-0.505048</td>\n",
       "    </tr>\n",
       "    <tr>\n",
       "      <th>49997</th>\n",
       "      <td>2022</td>\n",
       "      <td>6</td>\n",
       "      <td>23</td>\n",
       "      <td>19</td>\n",
       "      <td>2.0</td>\n",
       "      <td>19.0</td>\n",
       "      <td>1.0</td>\n",
       "      <td>75.0</td>\n",
       "      <td>-0.671287</td>\n",
       "    </tr>\n",
       "    <tr>\n",
       "      <th>49998</th>\n",
       "      <td>2022</td>\n",
       "      <td>12</td>\n",
       "      <td>6</td>\n",
       "      <td>4</td>\n",
       "      <td>19.0</td>\n",
       "      <td>25.0</td>\n",
       "      <td>1.0</td>\n",
       "      <td>20.0</td>\n",
       "      <td>0.326148</td>\n",
       "    </tr>\n",
       "    <tr>\n",
       "      <th>49999</th>\n",
       "      <td>2024</td>\n",
       "      <td>3</td>\n",
       "      <td>27</td>\n",
       "      <td>7</td>\n",
       "      <td>20.0</td>\n",
       "      <td>24.0</td>\n",
       "      <td>1.0</td>\n",
       "      <td>102.0</td>\n",
       "      <td>0.159909</td>\n",
       "    </tr>\n",
       "  </tbody>\n",
       "</table>\n",
       "<p>50000 rows × 9 columns</p>\n",
       "</div>"
      ],
      "text/plain": [
       "       Year  Month  Date  Hour  Place  Temperature  Day Status  Ride Demand  \\\n",
       "0      2023      3    21    19   26.0         26.0         1.0         79.0   \n",
       "1      2024      3     1     6   10.0         11.0         1.0         21.0   \n",
       "2      2024      3     1     5    6.0         24.0         1.0         20.0   \n",
       "3      2024     10    14    22   20.0         22.0         1.0         75.0   \n",
       "4      2024      1    14    21    8.0         22.0         0.0        137.0   \n",
       "...     ...    ...   ...   ...    ...          ...         ...          ...   \n",
       "49995  2023      8    27    13    6.0         28.0         0.0         82.0   \n",
       "49996  2023      8    14     4   17.0         20.0         1.0         24.0   \n",
       "49997  2022      6    23    19    2.0         19.0         1.0         75.0   \n",
       "49998  2022     12     6     4   19.0         25.0         1.0         20.0   \n",
       "49999  2024      3    27     7   20.0         24.0         1.0        102.0   \n",
       "\n",
       "        Z-Score  \n",
       "0      0.492387  \n",
       "1     -2.001199  \n",
       "2      0.159909  \n",
       "3     -0.172569  \n",
       "4     -0.172569  \n",
       "...         ...  \n",
       "49995  0.824865  \n",
       "49996 -0.505048  \n",
       "49997 -0.671287  \n",
       "49998  0.326148  \n",
       "49999  0.159909  \n",
       "\n",
       "[50000 rows x 9 columns]"
      ]
     },
     "execution_count": 53,
     "metadata": {},
     "output_type": "execute_result"
    }
   ],
   "source": [
    "data"
   ]
  },
  {
   "cell_type": "code",
   "execution_count": 54,
   "id": "4ZY2h6HQaYSV",
   "metadata": {
    "colab": {
     "base_uri": "https://localhost:8080/"
    },
    "id": "4ZY2h6HQaYSV",
    "outputId": "8494a29f-42dc-4b32-a9ad-0012f69981e4"
   },
   "outputs": [
    {
     "data": {
      "text/plain": [
       "['C:\\\\Users\\\\Likith Reddy\\\\OneDrive\\\\Desktop\\\\projectola\\\\lgb_model.pkl']"
      ]
     },
     "execution_count": 54,
     "metadata": {},
     "output_type": "execute_result"
    }
   ],
   "source": [
    "import joblib\n",
    "\n",
    "\n",
    "\n",
    "\n",
    "# Save the trained model\n",
    "# joblib.dump(lgb_model, 'lgb_model.pkl')\n",
    "joblib.dump(lgb_model, r'C:\\Users\\Likith Reddy\\OneDrive\\Desktop\\projectola\\lgb_model.pkl')\n",
    "\n",
    "\n",
    "\n"
   ]
  },
  {
   "cell_type": "code",
   "execution_count": 55,
   "id": "IbFnhqC5dMad",
   "metadata": {
    "id": "IbFnhqC5dMad"
   },
   "outputs": [],
   "source": [
    "# Load the model\n",
    "loaded_model = joblib.load('lgb_model.pkl')\n",
    "\n",
    "# Use the loaded model for predictions\n",
    "y_pred = loaded_model.predict(X_test)\n"
   ]
  }
 ],
 "metadata": {
  "colab": {
   "provenance": []
  },
  "kernelspec": {
   "display_name": "Python 3 (ipykernel)",
   "language": "python",
   "name": "python3"
  },
  "language_info": {
   "codemirror_mode": {
    "name": "ipython",
    "version": 3
   },
   "file_extension": ".py",
   "mimetype": "text/x-python",
   "name": "python",
   "nbconvert_exporter": "python",
   "pygments_lexer": "ipython3",
   "version": "3.13.0"
  }
 },
 "nbformat": 4,
 "nbformat_minor": 5
}
